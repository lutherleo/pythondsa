{
  "nbformat": 4,
  "nbformat_minor": 5,
  "metadata": {
    "kernelspec": {
      "display_name": "Python 3",
      "language": "python",
      "name": "python3"
    },
    "language_info": {
      "codemirror_mode": {
        "name": "ipython",
        "version": 3
      },
      "file_extension": ".py",
      "mimetype": "text/x-python",
      "name": "python",
      "nbconvert_exporter": "python",
      "pygments_lexer": "ipython3",
      "version": "3.8.6"
    },
    "colab": {
      "name": "python-hash-tables-assignment.ipynb",
      "provenance": [],
      "include_colab_link": true
    }
  },
  "cells": [
    {
      "cell_type": "markdown",
      "metadata": {
        "id": "view-in-github",
        "colab_type": "text"
      },
      "source": [
        "<a href=\"https://colab.research.google.com/github/lutherleo/pythondsa/blob/main/python_hash_tables_assignment.ipynb\" target=\"_parent\"><img src=\"https://colab.research.google.com/assets/colab-badge.svg\" alt=\"Open In Colab\"/></a>"
      ]
    },
    {
      "cell_type": "code",
      "metadata": {
        "id": "wrapped-sending",
        "outputId": "d412a118-a929-4f84-bef9-92ecb697188b",
        "colab": {
          "base_uri": "https://localhost:8080/"
        }
      },
      "source": [
        "# Jovian Commit Essentials\n",
        "# Please retain and execute this cell without modifying the contents for `jovian.commit` to work\n",
        "!pip install jovian --upgrade -q\n",
        "import jovian\n",
        "jovian.set_project('python-hash-tables-assignment')\n",
        "jovian.set_colab_id('100eq1kbjp5Z5F_HjLKHUrg0Dtpc7jutF')"
      ],
      "id": "wrapped-sending",
      "execution_count": 1,
      "outputs": [
        {
          "output_type": "stream",
          "text": [
            "\u001b[?25l\r\u001b[K     |████▉                           | 10kB 20.1MB/s eta 0:00:01\r\u001b[K     |█████████▊                      | 20kB 27.4MB/s eta 0:00:01\r\u001b[K     |██████████████▌                 | 30kB 19.7MB/s eta 0:00:01\r\u001b[K     |███████████████████▍            | 40kB 18.0MB/s eta 0:00:01\r\u001b[K     |████████████████████████▏       | 51kB 13.7MB/s eta 0:00:01\r\u001b[K     |█████████████████████████████   | 61kB 15.1MB/s eta 0:00:01\r\u001b[K     |████████████████████████████████| 71kB 4.6MB/s \n",
            "\u001b[?25h  Building wheel for uuid (setup.py) ... \u001b[?25l\u001b[?25hdone\n"
          ],
          "name": "stdout"
        }
      ]
    },
    {
      "cell_type": "markdown",
      "metadata": {
        "id": "documented-visit"
      },
      "source": [
        "# Assignment 2 - Hash Tables in Python\n",
        "\n",
        "_This assignment is a part of the course [\"Data Structures and Algorithms in Python\"](https://jovian.ai/learn/data-structures-and-algorithms-in-python)._\n",
        "\n",
        "In this assignment, you will implement Python dictionaries from scratch using hash tables.\n",
        "\n",
        "As you go through this notebook, you will find the symbol **???** in certain places. To complete this assignment, you must replace all the **???** with appropriate values, expressions or statements to ensure that the notebook runs properly end-to-end. \n",
        "\n",
        "**Guidelines**\n",
        "\n",
        "1. Make sure to run all the code cells, otherwise you may get errors like `NameError` for undefined variables.\n",
        "2. Do not change variable names, delete cells or disturb other existing code. It may cause problems during evaluation.\n",
        "3. In some cases, you may need to add some code cells or new statements before or after the line of code containing the **???**. \n",
        "4. Since you'll be using a temporary online service for code execution, save your work by running `jovian.commit` at regular intervals.\n",
        "5. Questions marked **(Optional)** will not be considered for evaluation, and can be skipped. They are for your learning.\n",
        "6. If you are stuck, you can ask for help on the [community forum](https://jovian.ai/forum/c/data-structures-and-algorithms-in-python/assignment-2/88). Post errors or ask for hints, but **please don't ask for OR share the full working answer code** on the forum.\n",
        "7. There are some tests included with this notebook to help you test your implementation. However, after submission your code will be tested with some hidden test cases. Make sure to test your code exhaustively to cover all edge cases.\n",
        "\n",
        "\n",
        "**Important Links**\n",
        "\n",
        "* Submit your work here: https://jovian.ai/learn/data-structures-and-algorithms-in-python/assignment/assignment-2-hash-table-and-python-dictionaries\n",
        "* Ask questions and get help: https://jovian.ai/forum/c/data-structures-and-algorithms-in-python/assignment-2/88\n",
        "* Lesson 2 video for review: https://jovian.ai/aakashns/python-binary-search-trees\n",
        "* Lesson 2 notebook for review: https://jovian.ai/aakashns/python-binary-search-trees\n",
        "\n",
        "\n",
        "\n"
      ],
      "id": "documented-visit"
    },
    {
      "cell_type": "markdown",
      "metadata": {
        "id": "guilty-lyric"
      },
      "source": [
        "### How to Run the Code and Save Your Work\n",
        "\n",
        "**Option 1: Running using free online resources (1-click, recommended)**: Click the **Run** button at the top of this page and select **Run on Binder**. You can also select \"Run on Colab\" or \"Run on Kaggle\", but you'll need to create an account on [Google Colab](https://colab.research.google.com) or [Kaggle](https://kaggle.com) to use these platforms.\n",
        "\n",
        "\n",
        "**Option 2: Running on your computer locally**: To run the code on your computer locally, you'll need to set up [Python](https://www.python.org) & [Conda](https://docs.conda.io/projects/conda/en/latest/user-guide/install/), download the notebook and install the required libraries. Click the **Run** button at the top of this page, select the **Run Locally** option, and follow the instructions.\n",
        "\n",
        "**Saving your work**: You can save a snapshot of the assignment to your [Jovian](https://jovian.ai) profile, so that you can access it later and continue your work. Keep saving your work by running `jovian.commit` from time to time."
      ],
      "id": "guilty-lyric"
    },
    {
      "cell_type": "code",
      "metadata": {
        "id": "equivalent-ready"
      },
      "source": [
        "project='python-hash-tables-assignment'"
      ],
      "id": "equivalent-ready",
      "execution_count": 2,
      "outputs": []
    },
    {
      "cell_type": "code",
      "metadata": {
        "id": "exact-detector"
      },
      "source": [
        "!pip install jovian --upgrade --quiet"
      ],
      "id": "exact-detector",
      "execution_count": 3,
      "outputs": []
    },
    {
      "cell_type": "code",
      "metadata": {
        "id": "major-dubai",
        "outputId": "e850f64b-a914-4673-9df3-20520b8d4191",
        "colab": {
          "base_uri": "https://localhost:8080/"
        }
      },
      "source": [
        "import jovian\n",
        "jovian.commit(project=project, privacy='secret', environment=None)"
      ],
      "id": "major-dubai",
      "execution_count": null,
      "outputs": [
        {
          "output_type": "stream",
          "text": [
            "[jovian] Detected Colab notebook...\u001b[0m\n",
            "[jovian] Please enter your API key ( from https://jovian.ai/ ):\u001b[0m\n",
            "API KEY: "
          ],
          "name": "stdout"
        }
      ]
    },
    {
      "cell_type": "markdown",
      "metadata": {
        "id": "working-potter"
      },
      "source": [
        "## Problem Statement - Python Dictionaries and Hash Tables\n",
        "\n",
        "In this assignment, you will recreate Python dictionaries from scratch using data structure called *hash table*. Dictionaries in Python are used to store key-value pairs. Keys are used to store and retrieve values. For example, here's a dictionary for storing and retrieving phone numbers using people's names. "
      ],
      "id": "working-potter"
    },
    {
      "cell_type": "code",
      "metadata": {
        "id": "marked-comparison"
      },
      "source": [
        "phone_numbers = {\n",
        "  'Aakash' : '9489484949',\n",
        "  'Hemanth' : '9595949494',\n",
        "  'Siddhant' : '9231325312'\n",
        "}\n",
        "phone_numbers"
      ],
      "id": "marked-comparison",
      "execution_count": null,
      "outputs": []
    },
    {
      "cell_type": "markdown",
      "metadata": {
        "id": "systematic-stylus"
      },
      "source": [
        "You can access a person's phone number using their name as follows:"
      ],
      "id": "systematic-stylus"
    },
    {
      "cell_type": "code",
      "metadata": {
        "id": "ordered-sleep"
      },
      "source": [
        "phone_numbers['Aakash']"
      ],
      "id": "ordered-sleep",
      "execution_count": null,
      "outputs": []
    },
    {
      "cell_type": "markdown",
      "metadata": {
        "id": "isolated-portrait"
      },
      "source": [
        "You can store new phone numbers, or update existing ones as follows:"
      ],
      "id": "isolated-portrait"
    },
    {
      "cell_type": "code",
      "metadata": {
        "id": "dried-darkness"
      },
      "source": [
        "# Add a new value\n",
        "phone_numbers['Vishal'] = '8787878787'\n",
        "# Update existing value\n",
        "phone_numbers['Aakash'] = '7878787878'\n",
        "# View the updated dictionary\n",
        "phone_numbers"
      ],
      "id": "dried-darkness",
      "execution_count": null,
      "outputs": []
    },
    {
      "cell_type": "markdown",
      "metadata": {
        "id": "prime-request"
      },
      "source": [
        "You can also view all the names and phone numbers stored in `phone_numbers` using a `for` loop."
      ],
      "id": "prime-request"
    },
    {
      "cell_type": "code",
      "metadata": {
        "id": "framed-cathedral"
      },
      "source": [
        "for name in phone_numbers:\n",
        "    print('Name:', name, ', Phone Number:', phone_numbers[name])"
      ],
      "id": "framed-cathedral",
      "execution_count": null,
      "outputs": []
    },
    {
      "cell_type": "markdown",
      "metadata": {
        "id": "seasonal-pulse"
      },
      "source": [
        "Dictionaries in Python are implemented using a data structure called **hash table**. A hash table uses a list/array to store the key-value pairs, and uses a _hashing function_ to determine the index for storing or retrieving the data associated with a given key. \n",
        "\n",
        "Here's a visual representation of a hash table ([source](https://en.wikipedia.org/wiki/Hash_table)):\n",
        "\n",
        "<img src=\"https://i.imgur.com/5dPEmuY.png\" width=\"480\">\n",
        "\n",
        "Your objective in this assignment is to implement a `HashTable` class which supports the following operations:\n",
        "\n",
        "1. **Insert**: Insert a new key-value pair\n",
        "2. **Find**: Find the value associated with a key\n",
        "3. **Update**: Update the value associated with a key\n",
        "5. **List**: List all the keys stored in the hash table\n",
        "\n",
        "The `HashTable` class will have the following structure (note the function signatures):"
      ],
      "id": "seasonal-pulse"
    },
    {
      "cell_type": "code",
      "metadata": {
        "id": "interracial-platform"
      },
      "source": [
        "class HashTable:\n",
        "    def insert(self, key, value):\n",
        "        \"\"\"Insert a new key-value pair\"\"\"\n",
        "        pass\n",
        "    \n",
        "    def find(self, key):\n",
        "        \"\"\"Find the value associated with a key\"\"\"\n",
        "        pass\n",
        "    \n",
        "    def update(self, key, value):\n",
        "        \"\"\"Change the value associated with a key\"\"\"\n",
        "        pass\n",
        "    \n",
        "    def list_all(self):\n",
        "        \"\"\"List all the keys\"\"\"\n",
        "        pass"
      ],
      "id": "interracial-platform",
      "execution_count": null,
      "outputs": []
    },
    {
      "cell_type": "markdown",
      "metadata": {
        "id": "massive-communications"
      },
      "source": [
        "Before we begin our implementation, let's save and commit our work."
      ],
      "id": "massive-communications"
    },
    {
      "cell_type": "code",
      "metadata": {
        "id": "framed-corporation"
      },
      "source": [
        "jovian.commit(project=project)"
      ],
      "id": "framed-corporation",
      "execution_count": null,
      "outputs": []
    },
    {
      "cell_type": "markdown",
      "metadata": {
        "id": "funky-kazakhstan"
      },
      "source": [
        "### Data List\n",
        "\n",
        "We'll build the `HashTable` class step-by-step. As a first step is to create a Python list which will hold all the key-value pairs. We'll start by creating a list of a fixed size.\n",
        "\n"
      ],
      "id": "funky-kazakhstan"
    },
    {
      "cell_type": "code",
      "metadata": {
        "id": "shaped-bottle"
      },
      "source": [
        "MAX_HASH_TABLE_SIZE = 4096"
      ],
      "id": "shaped-bottle",
      "execution_count": null,
      "outputs": []
    },
    {
      "cell_type": "markdown",
      "metadata": {
        "id": "selected-viking"
      },
      "source": [
        "**QUESTION 1: Create a Python list of size `MAX_HASH_TABLE_SIZE`, with all the values set to `None`.**\n",
        "\n",
        "_Hint_: Use the [`*` operator](https://stackoverflow.com/questions/3459098/create-list-of-single-item-repeated-n-times)."
      ],
      "id": "selected-viking"
    },
    {
      "cell_type": "code",
      "metadata": {
        "id": "continental-restriction"
      },
      "source": [
        "# List of size MAX_HASH_TABLE_SIZE with all values None\n",
        "data_list = []\n",
        "data_list += ([None]*MAX_HASH_TABLE_SIZE)"
      ],
      "id": "continental-restriction",
      "execution_count": null,
      "outputs": []
    },
    {
      "cell_type": "markdown",
      "metadata": {
        "id": "hairy-parameter"
      },
      "source": [
        "If the list was created successfully, the following cells should output `True`."
      ],
      "id": "hairy-parameter"
    },
    {
      "cell_type": "code",
      "metadata": {
        "id": "cordless-guatemala"
      },
      "source": [
        "len(data_list) == 4096"
      ],
      "id": "cordless-guatemala",
      "execution_count": null,
      "outputs": []
    },
    {
      "cell_type": "code",
      "metadata": {
        "id": "continuing-acrylic"
      },
      "source": [
        "data_list[99] == None"
      ],
      "id": "continuing-acrylic",
      "execution_count": null,
      "outputs": []
    },
    {
      "cell_type": "markdown",
      "metadata": {
        "id": "identical-server"
      },
      "source": [
        "Let's save our work before continuing."
      ],
      "id": "identical-server"
    },
    {
      "cell_type": "code",
      "metadata": {
        "id": "decent-parks"
      },
      "source": [
        "jovian.commit(project=project)"
      ],
      "id": "decent-parks",
      "execution_count": null,
      "outputs": []
    },
    {
      "cell_type": "markdown",
      "metadata": {
        "id": "empty-chester"
      },
      "source": [
        "### Hashing Function\n",
        "\n",
        "A _hashing function_ is used to convert strings and other non-numeric data types into numbers, which can then be used as list indices. For instance, if a hashing function converts the string `\"Aakash\"` into the number `4`, then the key-value pair `('Aakash', '7878787878')` will be stored at the position `4` within the data list.\n",
        "\n",
        "Here's a simple algorithm for hashing, which can convert strings into numeric list indices.\n",
        "\n",
        "1. Iterate over the string, character by character\n",
        "2. Convert each character to a number using Python's built-in `ord` function.\n",
        "3. Add the numbers for each character to obtain the hash for the entire string \n",
        "4. Take the remainder of the result with the size of the data list\n",
        "\n",
        "\n",
        "**QUESTION 2: Complete the `get_index` function below which implements the hashing algorithm described above.**"
      ],
      "id": "empty-chester"
    },
    {
      "cell_type": "code",
      "metadata": {
        "id": "native-medication"
      },
      "source": [
        "def get_index(data_list, a_string):\n",
        "    # Variable to store the result (updated after each iteration)\n",
        "    result = 0\n",
        "    \n",
        "    for a_character in a_string:\n",
        "        # Convert the character to a number (using ord)\n",
        "        a_number = ord(a_character)\n",
        "        # Update result by adding the number\n",
        "        result += a_number\n",
        "    \n",
        "    # Take the remainder of the result with the size of the data list\n",
        "    list_index = result % len(data_list)\n",
        "    return list_index"
      ],
      "id": "native-medication",
      "execution_count": null,
      "outputs": []
    },
    {
      "cell_type": "markdown",
      "metadata": {
        "id": "statutory-fraction"
      },
      "source": [
        "If the `get_index` function was defined correctly, the following cells should output `True`."
      ],
      "id": "statutory-fraction"
    },
    {
      "cell_type": "code",
      "metadata": {
        "id": "accredited-silence"
      },
      "source": [
        "get_index(data_list, '') == 0"
      ],
      "id": "accredited-silence",
      "execution_count": null,
      "outputs": []
    },
    {
      "cell_type": "code",
      "metadata": {
        "id": "strong-greece"
      },
      "source": [
        "get_index(data_list, 'Aakash') == 585"
      ],
      "id": "strong-greece",
      "execution_count": null,
      "outputs": []
    },
    {
      "cell_type": "code",
      "metadata": {
        "id": "banned-customs"
      },
      "source": [
        "get_index(data_list, 'Don O Leary') == 941"
      ],
      "id": "banned-customs",
      "execution_count": null,
      "outputs": []
    },
    {
      "cell_type": "markdown",
      "metadata": {
        "id": "cathedral-china"
      },
      "source": [
        "(Optional) Test the `get_index` function using the empty cells below."
      ],
      "id": "cathedral-china"
    },
    {
      "cell_type": "code",
      "metadata": {
        "id": "accurate-vienna"
      },
      "source": [
        "get_index(None, None)"
      ],
      "id": "accurate-vienna",
      "execution_count": null,
      "outputs": []
    },
    {
      "cell_type": "code",
      "metadata": {
        "id": "specified-adelaide"
      },
      "source": [
        ""
      ],
      "id": "specified-adelaide",
      "execution_count": null,
      "outputs": []
    },
    {
      "cell_type": "markdown",
      "metadata": {
        "id": "senior-russell"
      },
      "source": [
        "#### Insert\n",
        "\n",
        "To insert a key-value pair into a hash table, we can simply get the hash of the key, and store the pair at that index in the data list."
      ],
      "id": "senior-russell"
    },
    {
      "cell_type": "code",
      "metadata": {
        "id": "partial-burlington"
      },
      "source": [
        "key, value = 'Aakash', '7878787878'"
      ],
      "id": "partial-burlington",
      "execution_count": null,
      "outputs": []
    },
    {
      "cell_type": "code",
      "metadata": {
        "id": "purple-convergence"
      },
      "source": [
        "idx = get_index(data_list, key)\n",
        "idx"
      ],
      "id": "purple-convergence",
      "execution_count": null,
      "outputs": []
    },
    {
      "cell_type": "code",
      "metadata": {
        "id": "empty-identity"
      },
      "source": [
        "data_list[idx] = (key, value)"
      ],
      "id": "empty-identity",
      "execution_count": null,
      "outputs": []
    },
    {
      "cell_type": "markdown",
      "metadata": {
        "id": "lucky-modification"
      },
      "source": [
        "Here's the same operation expressed in a single line of code."
      ],
      "id": "lucky-modification"
    },
    {
      "cell_type": "code",
      "metadata": {
        "id": "subjective-turkey"
      },
      "source": [
        "data_list[get_index(data_list, 'Hemanth')] = ('Hemanth', '9595949494')"
      ],
      "id": "subjective-turkey",
      "execution_count": null,
      "outputs": []
    },
    {
      "cell_type": "markdown",
      "metadata": {
        "id": "permanent-shelf"
      },
      "source": [
        "#### Find\n",
        "\n",
        "The retrieve the value associated with a pair, we can get the hash of the key and look up that index in the data list."
      ],
      "id": "permanent-shelf"
    },
    {
      "cell_type": "code",
      "metadata": {
        "id": "demanding-calibration"
      },
      "source": [
        "idx = get_index(data_list, 'Aakash')\n",
        "idx"
      ],
      "id": "demanding-calibration",
      "execution_count": null,
      "outputs": []
    },
    {
      "cell_type": "code",
      "metadata": {
        "id": "protective-reliance"
      },
      "source": [
        "key, value = data_list[idx]\n",
        "value"
      ],
      "id": "protective-reliance",
      "execution_count": null,
      "outputs": []
    },
    {
      "cell_type": "markdown",
      "metadata": {
        "id": "governmental-recall"
      },
      "source": [
        "#### List\n",
        "\n",
        "To get the list of keys, we can use a simple [list comprehension](https://www.w3schools.com/python/python_lists_comprehension.asp)."
      ],
      "id": "governmental-recall"
    },
    {
      "cell_type": "code",
      "metadata": {
        "id": "accomplished-preparation"
      },
      "source": [
        "pairs = [kv[0] for kv in data_list if kv is not None]"
      ],
      "id": "accomplished-preparation",
      "execution_count": null,
      "outputs": []
    },
    {
      "cell_type": "code",
      "metadata": {
        "id": "intimate-tobacco"
      },
      "source": [
        "pairs"
      ],
      "id": "intimate-tobacco",
      "execution_count": null,
      "outputs": []
    },
    {
      "cell_type": "markdown",
      "metadata": {
        "id": "voluntary-atlanta"
      },
      "source": [
        "Let's save our work before continuing."
      ],
      "id": "voluntary-atlanta"
    },
    {
      "cell_type": "code",
      "metadata": {
        "id": "engaging-relationship"
      },
      "source": [
        "jovian.commit(project=project)"
      ],
      "id": "engaging-relationship",
      "execution_count": null,
      "outputs": []
    },
    {
      "cell_type": "markdown",
      "metadata": {
        "id": "mental-harvard"
      },
      "source": [
        "### Basic Hash Table Implementation\n",
        "\n",
        "We can now use the hashing function defined above to implement a basic hash table in Python.\n",
        "\n",
        "\n",
        "**QUESTION 3: Complete the hash table implementation below by following the instructions in the comments.**\n",
        "\n",
        "_Hint_: Insert and update can have identical implementations.\n"
      ],
      "id": "mental-harvard"
    },
    {
      "cell_type": "code",
      "metadata": {
        "id": "fallen-frederick"
      },
      "source": [
        "class BasicHashTable:\n",
        "    def __init__(self, max_size=MAX_HASH_TABLE_SIZE):\n",
        "        # 1. Create a list of size `max_size` with all values None\n",
        "        self.data_list = []\n",
        "        self.data_list += ([None]*max_size)\n",
        "     \n",
        "    \n",
        "    def insert(self, key, value):\n",
        "        # 1. Find the index for the key using get_index\n",
        "        idx = get_index(self.data_list, key)\n",
        "        \n",
        "        # 2. Store the key-value pair at the right index\n",
        "        self.data_list[idx] = key, value\n",
        "    \n",
        "    \n",
        "    def find(self, key):\n",
        "        # 1. Find the index for the key using get_index\n",
        "        idx = get_index(self.data_list, key)\n",
        "        \n",
        "        # 2. Retrieve the data stored at the index\n",
        "        kv = self.data_list[idx]\n",
        "        \n",
        "        # 3. Return the value if found, else return None\n",
        "        if kv is None:\n",
        "            return None\n",
        "        else:\n",
        "            key, value = kv\n",
        "            return value\n",
        "    \n",
        "    \n",
        "    def update(self, key, value):\n",
        "        # 1. Find the index for the key using get_index\n",
        "        idx = get_index(self.data_list, key)\n",
        "        \n",
        "        # 2. Store the new key-value pair at the right index\n",
        "        self.data_list[idx] = key, value\n",
        "\n",
        "    \n",
        "    def list_all(self):\n",
        "        # 1. Extract the key from each key-value pair \n",
        "        return [kv[0] for kv in self.data_list if kv is not None]"
      ],
      "id": "fallen-frederick",
      "execution_count": null,
      "outputs": []
    },
    {
      "cell_type": "markdown",
      "metadata": {
        "id": "checked-console"
      },
      "source": [
        "If the `BasicHashTable` class was defined correctly, the following cells should output `True`."
      ],
      "id": "checked-console"
    },
    {
      "cell_type": "code",
      "metadata": {
        "id": "collectible-superior"
      },
      "source": [
        "basic_table = []\n",
        "basic_table = BasicHashTable(max_size=1024)\n",
        "len(basic_table.data_list) == 1024"
      ],
      "id": "collectible-superior",
      "execution_count": null,
      "outputs": []
    },
    {
      "cell_type": "code",
      "metadata": {
        "id": "every-large"
      },
      "source": [
        "# Insert some values\n",
        "basic_table.insert('Aakash', '9999999999')\n",
        "basic_table.insert('Hemanth', '8888888888')\n",
        "\n",
        "# Find a value\n",
        "basic_table.find('Hemanth') == '8888888888'"
      ],
      "id": "every-large",
      "execution_count": null,
      "outputs": []
    },
    {
      "cell_type": "code",
      "metadata": {
        "id": "sitting-alaska"
      },
      "source": [
        "# Update a value\n",
        "basic_table.update('Aakash', '7777777777')\n",
        "\n",
        "# Check the updated value\n",
        "basic_table.find('Aakash') == '7777777777'"
      ],
      "id": "sitting-alaska",
      "execution_count": null,
      "outputs": []
    },
    {
      "cell_type": "code",
      "metadata": {
        "id": "tender-trader"
      },
      "source": [
        "# Get the list of keys\n",
        "basic_table.list_all() == ['Aakash', 'Hemanth']"
      ],
      "id": "tender-trader",
      "execution_count": null,
      "outputs": []
    },
    {
      "cell_type": "markdown",
      "metadata": {
        "id": "perceived-improvement"
      },
      "source": [
        "(Optional) Test your implementation of `BasicHashTable` with some more examples below."
      ],
      "id": "perceived-improvement"
    },
    {
      "cell_type": "code",
      "metadata": {
        "id": "enclosed-thumb"
      },
      "source": [
        ""
      ],
      "id": "enclosed-thumb",
      "execution_count": null,
      "outputs": []
    },
    {
      "cell_type": "code",
      "metadata": {
        "id": "painted-posting"
      },
      "source": [
        ""
      ],
      "id": "painted-posting",
      "execution_count": null,
      "outputs": []
    },
    {
      "cell_type": "code",
      "metadata": {
        "id": "identical-future"
      },
      "source": [
        ""
      ],
      "id": "identical-future",
      "execution_count": null,
      "outputs": []
    },
    {
      "cell_type": "markdown",
      "metadata": {
        "id": "arabic-heating"
      },
      "source": [
        "Let's save our work before continuing."
      ],
      "id": "arabic-heating"
    },
    {
      "cell_type": "code",
      "metadata": {
        "id": "patent-marking"
      },
      "source": [
        "jovian.commit(project=project)"
      ],
      "id": "patent-marking",
      "execution_count": null,
      "outputs": []
    },
    {
      "cell_type": "markdown",
      "metadata": {
        "id": "floating-internship"
      },
      "source": [
        "### Handling Collisions with Linear Probing\n",
        "\n",
        "As you might have wondered, multiple keys can have the same hash. For instance, the keys `\"listen\"` and `\"silent\"` have the same hash. This is referred to as _collision_. Data stored against one key may override the data stored against another, if they have the same hash.\n"
      ],
      "id": "floating-internship"
    },
    {
      "cell_type": "code",
      "metadata": {
        "id": "another-swiss"
      },
      "source": [
        "basic_table.insert('listen', 99)"
      ],
      "id": "another-swiss",
      "execution_count": null,
      "outputs": []
    },
    {
      "cell_type": "code",
      "metadata": {
        "id": "outstanding-diagram"
      },
      "source": [
        "basic_table.insert('silent', 200)"
      ],
      "id": "outstanding-diagram",
      "execution_count": null,
      "outputs": []
    },
    {
      "cell_type": "code",
      "metadata": {
        "id": "stupid-horse"
      },
      "source": [
        "basic_table.find('listen')"
      ],
      "id": "stupid-horse",
      "execution_count": null,
      "outputs": []
    },
    {
      "cell_type": "markdown",
      "metadata": {
        "id": "broken-horror"
      },
      "source": [
        "As you can see above, the value for the key `listen` was overwritten by the value for the key `silent`. Our hash table implementation is incomplete because it does not handle collisions correctly.\n",
        "\n",
        "To handle collisions we'll use a technique called linear probing. Here's how it works: \n",
        "\n",
        "1. While inserting a new key-value pair if the target index for a key is occupied by another key, then we try the next index, followed by the next and so on till we the closest empty location.\n",
        "\n",
        "2. While finding a key-value pair, we apply the same strategy, but instead of searching for an empty location, we look for a location which contains a key-value pair with the matching key.\n",
        "\n",
        "2. While updating a key-value pair, we apply the same strategy, but instead of searching for an empty location, we look for a location which contains a key-value pair with the matching key, and update its value.\n",
        "\n",
        "\n",
        "We'll define a function called `get_valid_index`, which starts searching the data list from the index determined by the hashing function `get_index` and returns the first index which is either empty or contains a key-value pair matching the given key.\n",
        "\n",
        "**QUESTION 4: Complete the function `get_valid_index` below by following the instructions in the comments.**"
      ],
      "id": "broken-horror"
    },
    {
      "cell_type": "code",
      "metadata": {
        "id": "absolute-hepatitis"
      },
      "source": [
        "def get_valid_index(data_list, key):\n",
        "    # Start with the index returned by get_index\n",
        "    idx = get_index(data_list, key)\n",
        "    \n",
        "    while True:\n",
        "        # Get the key-value pair stored at idx\n",
        "        kv = data_list[idx]\n",
        "        \n",
        "        # If it is None, return the index\n",
        "        if  kv is None:\n",
        "            return idx\n",
        "        \n",
        "        # If the stored key matches the given key, return the index\n",
        "        k, v = kv\n",
        "        if k == key:\n",
        "            return idx \n",
        "        \n",
        "        # Move to the next index\n",
        "        idx = idx + 1\n",
        "        \n",
        "        # Go back to the start if you have reached the end of the array\n",
        "        if idx == len(data_list):\n",
        "            idx = 0"
      ],
      "id": "absolute-hepatitis",
      "execution_count": null,
      "outputs": []
    },
    {
      "cell_type": "code",
      "metadata": {
        "id": "chinese-melbourne"
      },
      "source": [
        ""
      ],
      "id": "chinese-melbourne",
      "execution_count": null,
      "outputs": []
    },
    {
      "cell_type": "markdown",
      "metadata": {
        "id": "cosmetic-steel"
      },
      "source": [
        "If `get_valid_index` was defined correctly, the following cells should output `True`."
      ],
      "id": "cosmetic-steel"
    },
    {
      "cell_type": "code",
      "metadata": {
        "id": "trained-small"
      },
      "source": [
        "# Create an empty hash table\n",
        "data_list2 = [None] * MAX_HASH_TABLE_SIZE\n",
        "\n",
        "# New key 'listen' should return expected index\n",
        "get_valid_index(data_list2, 'listen') == 655"
      ],
      "id": "trained-small",
      "execution_count": null,
      "outputs": []
    },
    {
      "cell_type": "code",
      "metadata": {
        "id": "occupied-interference"
      },
      "source": [
        "# Insert a key-value pair for the key 'listen'\n",
        "data_list2[get_index(data_list2, 'listen')] = ('listen', 99)\n",
        "\n",
        "# Colliding key 'silent' should return next index\n",
        "get_valid_index(data_list2, 'silent') == 656"
      ],
      "id": "occupied-interference",
      "execution_count": null,
      "outputs": []
    },
    {
      "cell_type": "markdown",
      "metadata": {
        "id": "rotary-auditor"
      },
      "source": [
        "(Optional) Test your implementation of `get_valid_index` on some more examples using the empty cells below."
      ],
      "id": "rotary-auditor"
    },
    {
      "cell_type": "code",
      "metadata": {
        "id": "brazilian-mumbai"
      },
      "source": [
        ""
      ],
      "id": "brazilian-mumbai",
      "execution_count": null,
      "outputs": []
    },
    {
      "cell_type": "code",
      "metadata": {
        "id": "thorough-broadcast"
      },
      "source": [
        ""
      ],
      "id": "thorough-broadcast",
      "execution_count": null,
      "outputs": []
    },
    {
      "cell_type": "code",
      "metadata": {
        "id": "coated-stevens"
      },
      "source": [
        ""
      ],
      "id": "coated-stevens",
      "execution_count": null,
      "outputs": []
    },
    {
      "cell_type": "markdown",
      "metadata": {
        "id": "generic-makeup"
      },
      "source": [
        "Let's save our work before continuing."
      ],
      "id": "generic-makeup"
    },
    {
      "cell_type": "code",
      "metadata": {
        "id": "eight-height"
      },
      "source": [
        "jovian.commit(project=project)"
      ],
      "id": "eight-height",
      "execution_count": null,
      "outputs": []
    },
    {
      "cell_type": "markdown",
      "metadata": {
        "id": "helpful-third"
      },
      "source": [
        "### Hash Table with Linear Probing\n",
        "\n",
        "We can now implement a hash table with linear probing.\n",
        "\n",
        "**QUESTION 5: Complete the hash table (with linear probing) implementation below by following the instructions in the comments.**"
      ],
      "id": "helpful-third"
    },
    {
      "cell_type": "code",
      "metadata": {
        "id": "general-fifth"
      },
      "source": [
        "class ProbingHashTable:\n",
        "    def __init__(self, max_size=MAX_HASH_TABLE_SIZE):\n",
        "        # 1. Create a list of size `max_size` with all values None\n",
        "        self.data_list = []\n",
        "        self.data_list += ([None]*max_size)\n",
        "     \n",
        "    \n",
        "    def insert(self, key, value):\n",
        "        # 1. Find the index for the key using get_valid_index\n",
        "        idx = get_valid_index(self.data_list, key)\n",
        "        \n",
        "        # 2. Store the key-value pair at the right index\n",
        "        self.data_list[idx] = key,value\n",
        "    \n",
        "    \n",
        "    def find(self, key):\n",
        "        # 1. Find the index for the key using get_valid_index\n",
        "        idx = get_valid_index(self.data_list, key)\n",
        "        \n",
        "        # 2. Retrieve the data stored at the index\n",
        "        kv = self.data_list[idx]\n",
        "        \n",
        "        # 3. Return the value if found, else return None\n",
        "        return None if kv is None else kv[1]\n",
        "    \n",
        "    \n",
        "    def update(self, key, value):\n",
        "        # 1. Find the index for the key using get_valid_index\n",
        "        idx = get_valid_index(self.data_list, key)\n",
        "        \n",
        "        # 2. Store the new key-value pair at the right index\n",
        "        self.data_list[idx] = key, value\n",
        "\n",
        "    \n",
        "    def list_all(self):\n",
        "        # 1. Extract the key from each key-value pair \n",
        "        return [kv[0] for kv in self.data_list if kv is not None]"
      ],
      "id": "general-fifth",
      "execution_count": null,
      "outputs": []
    },
    {
      "cell_type": "markdown",
      "metadata": {
        "id": "peaceful-swedish"
      },
      "source": [
        "If the `ProbingHashTable` class was defined correctly, the following cells should output `True`."
      ],
      "id": "peaceful-swedish"
    },
    {
      "cell_type": "code",
      "metadata": {
        "id": "extended-greek"
      },
      "source": [
        "# Create a new hash table\n",
        "probing_table = ProbingHashTable()\n",
        "\n",
        "# Insert a value\n",
        "probing_table.insert('listen', 99)\n",
        "\n",
        "# Check the value\n",
        "probing_table.find('listen') == 99"
      ],
      "id": "extended-greek",
      "execution_count": null,
      "outputs": []
    },
    {
      "cell_type": "code",
      "metadata": {
        "id": "accredited-sight"
      },
      "source": [
        "# Insert a colliding key\n",
        "probing_table.insert('silent', 200)\n",
        "\n",
        "# Check the new and old keys\n",
        "probing_table.find('listen') == 99 and probing_table.find('silent') == 200"
      ],
      "id": "accredited-sight",
      "execution_count": null,
      "outputs": []
    },
    {
      "cell_type": "code",
      "metadata": {
        "id": "bronze-vinyl"
      },
      "source": [
        "# Update a key\n",
        "probing_table.insert('listen', 101)\n",
        "\n",
        "# Check the value\n",
        "probing_table.find('listen') == 101"
      ],
      "id": "bronze-vinyl",
      "execution_count": null,
      "outputs": []
    },
    {
      "cell_type": "code",
      "metadata": {
        "id": "academic-booking"
      },
      "source": [
        "probing_table.list_all() == ['listen', 'silent']"
      ],
      "id": "academic-booking",
      "execution_count": null,
      "outputs": []
    },
    {
      "cell_type": "markdown",
      "metadata": {
        "id": "fiscal-portland"
      },
      "source": [
        "(Optional) Test your implementation of `ProbingHashTable` using the empty cells below."
      ],
      "id": "fiscal-portland"
    },
    {
      "cell_type": "code",
      "metadata": {
        "id": "warming-roads"
      },
      "source": [
        ""
      ],
      "id": "warming-roads",
      "execution_count": null,
      "outputs": []
    },
    {
      "cell_type": "code",
      "metadata": {
        "id": "refined-classification"
      },
      "source": [
        ""
      ],
      "id": "refined-classification",
      "execution_count": null,
      "outputs": []
    },
    {
      "cell_type": "code",
      "metadata": {
        "id": "administrative-roller"
      },
      "source": [
        ""
      ],
      "id": "administrative-roller",
      "execution_count": null,
      "outputs": []
    },
    {
      "cell_type": "markdown",
      "metadata": {
        "id": "extraordinary-gamma"
      },
      "source": [
        "Save your work before continuing."
      ],
      "id": "extraordinary-gamma"
    },
    {
      "cell_type": "code",
      "metadata": {
        "id": "sorted-junction"
      },
      "source": [
        "jovian.commit(project=project)"
      ],
      "id": "sorted-junction",
      "execution_count": null,
      "outputs": []
    },
    {
      "cell_type": "markdown",
      "metadata": {
        "id": "novel-sender"
      },
      "source": [
        "### Make a Submission\n",
        "\n",
        "Congrats! You have now implemented hash tables from scratch. The rest of this assignment is optional. \n",
        "\n",
        "You can make a submission on this page: https://jovian.ai/learn/data-structures-and-algorithms-in-python/assignment/assignment-2-hash-table-and-python-dictionaries . Submit the link to your Jovian notebook (the output of the previous cell).\n",
        "\n",
        "\n",
        "You can also make a direct submission by executing the following cell:"
      ],
      "id": "novel-sender"
    },
    {
      "cell_type": "code",
      "metadata": {
        "id": "several-brunswick"
      },
      "source": [
        "jovian.submit(assignment=\"pythondsa-assignment2\")"
      ],
      "id": "several-brunswick",
      "execution_count": null,
      "outputs": []
    },
    {
      "cell_type": "markdown",
      "metadata": {
        "id": "optional-knife"
      },
      "source": [
        "If you are stuck, you can get help on the forum: https://jovian.ai/forum/c/data-structures-and-algorithms-in-python/assignment-2/88"
      ],
      "id": "optional-knife"
    },
    {
      "cell_type": "markdown",
      "metadata": {
        "id": "purple-showcase"
      },
      "source": [
        "### (Optional) Python Dictionaries using Hash Tables\n",
        "\n",
        "We can now implement Python dictionaries using hash tables. Also, Python provides a built-in function called `hash` which we can use instead of our custom hash function. It is likely to have far fewer collisions\n",
        "\n",
        "**(Optional) Question: Implement a python-friendly interface for the hash table.**"
      ],
      "id": "purple-showcase"
    },
    {
      "cell_type": "code",
      "metadata": {
        "id": "successful-representative"
      },
      "source": [
        "MAX_HASH_TABLE_SIZE = 4096\n",
        "\n",
        "class HashTable:\n",
        "    def __init__(self, max_size=MAX_HASH_TABLE_SIZE):\n",
        "        self.data_list = [None] * max_size\n",
        "        \n",
        "    def get_valid_index(self, key):\n",
        "        # Use Python's in-built `hash` function and implement linear probing\n",
        "        idx = hash(key)\n",
        "    \n",
        "        while True:\n",
        "            # Get the key-value pair stored at idx\n",
        "            kv = self.data_list[idx]\n",
        "\n",
        "            # If it is None, return the index\n",
        "            if  kv is None:\n",
        "                return idx\n",
        "\n",
        "            # If the stored key matches the given key, return the index\n",
        "            k, v = kv\n",
        "            if k == key:\n",
        "                return idx \n",
        "\n",
        "            # Move to the next index\n",
        "            idx = idx + 1\n",
        "\n",
        "            # Go back to the start if you have reached the end of the array\n",
        "            if idx == len(self.data_list):\n",
        "                idx = 0\n",
        "        \n",
        "    def __getitem__(self, key):\n",
        "        # Implement the logic for \"find\" here\n",
        "        idx = get_valid_index(self.data_list, key)\n",
        "        kv = self.data_list[idx]\n",
        "        return None if kv is None else kv[1]\n",
        "        \n",
        "    \n",
        "    def __setitem__(self, key, value):\n",
        "        # Implement the logic for \"insert/update\" here\n",
        "        idx = get_valid_index(self.data_list, key)\n",
        "        self.data_list[idx] = key,value\n",
        "    \n",
        "    def __iter__(self):\n",
        "        return (x for x in self.data_list if x is not None)\n",
        "    \n",
        "    def __len__(self):\n",
        "        return len([x for x in self])\n",
        "    \n",
        "    def __repr__(self):\n",
        "        from textwrap import indent\n",
        "        pairs = [indent(\"{} : {}\".format(repr(kv[0]), repr(kv[1])), '  ') for kv in self]\n",
        "        return \"{\\n\" + \"{}\".format(',\\n'.join(pairs)) + \"\\n}\"\n",
        "    \n",
        "    def __str__(self):\n",
        "        return repr(self)"
      ],
      "id": "successful-representative",
      "execution_count": null,
      "outputs": []
    },
    {
      "cell_type": "markdown",
      "metadata": {
        "id": "removed-decline"
      },
      "source": [
        "If the `HashTable` class was defined correctly, the following cells should output `True`."
      ],
      "id": "removed-decline"
    },
    {
      "cell_type": "code",
      "metadata": {
        "id": "synthetic-invention"
      },
      "source": [
        "# Create a hash table\n",
        "table = HashTable()\n",
        "\n",
        "# Insert some key-value pairs\n",
        "table['a'] = 1\n",
        "table['b'] = 34\n",
        "\n",
        "# Retrieve the inserted values\n",
        "table['a'] == 1 and table['b'] == 34"
      ],
      "id": "synthetic-invention",
      "execution_count": null,
      "outputs": []
    },
    {
      "cell_type": "code",
      "metadata": {
        "id": "provincial-cotton"
      },
      "source": [
        "# Update a value\n",
        "table['a'] = 99\n",
        "\n",
        "# Check the updated value\n",
        "table['a'] == 99"
      ],
      "id": "provincial-cotton",
      "execution_count": null,
      "outputs": []
    },
    {
      "cell_type": "code",
      "metadata": {
        "id": "dietary-jerusalem"
      },
      "source": [
        "# Get a list of key-value pairs\n",
        "list(table) == [('a', 99), ('b', 34)]"
      ],
      "id": "dietary-jerusalem",
      "execution_count": null,
      "outputs": []
    },
    {
      "cell_type": "markdown",
      "metadata": {
        "id": "alpine-tracker"
      },
      "source": [
        "Since we have also implemented the `__repr__` and `__str__` functions, the output of the next cell should be:\n",
        "\n",
        "```\n",
        "{\n",
        "  'a' : 99,\n",
        "  'b' : 34\n",
        "}\n",
        "```"
      ],
      "id": "alpine-tracker"
    },
    {
      "cell_type": "code",
      "metadata": {
        "id": "enhanced-rates"
      },
      "source": [
        "table"
      ],
      "id": "enhanced-rates",
      "execution_count": null,
      "outputs": []
    },
    {
      "cell_type": "markdown",
      "metadata": {
        "id": "personal-evaluation"
      },
      "source": [
        "Let's save our work before continuing."
      ],
      "id": "personal-evaluation"
    },
    {
      "cell_type": "code",
      "metadata": {
        "id": "dimensional-ireland"
      },
      "source": [
        "import jovian"
      ],
      "id": "dimensional-ireland",
      "execution_count": null,
      "outputs": []
    },
    {
      "cell_type": "code",
      "metadata": {
        "id": "martial-pakistan"
      },
      "source": [
        "jovian.commit(project=project)"
      ],
      "id": "martial-pakistan",
      "execution_count": null,
      "outputs": []
    },
    {
      "cell_type": "markdown",
      "metadata": {
        "id": "quarterly-setting"
      },
      "source": [
        "### (Optional) Hash Table Improvements\n",
        "\n",
        "Here are some more improvements/changes you can make to your hash table implementation:\n",
        "\n",
        "* **Track the size of the hash table** i.e. number of key-value pairs so that `len(table)` has complexity O(1).\n",
        "* **Implement deletion with tombstones** as described here: https://research.cs.vt.edu/AVresearch/hashing/deletion.php\n",
        "* **Implement dynamic resizing** to automatically grow/shrink the data list: https://charlesreid1.com/wiki/Hash_Maps/Dynamic_Resizing\n",
        "* **Implement separate chaining**, an alternative to linear probing for collision resolution: https://www.youtube.com/watch/T9gct6Dx-jo\n"
      ],
      "id": "quarterly-setting"
    },
    {
      "cell_type": "markdown",
      "metadata": {
        "id": "constitutional-screen"
      },
      "source": [
        "### (Optional) Complexity Analysis\n",
        "\n",
        "With choice of a good hashing function and other improvements like dynamic resizing, you can \n",
        "\n",
        "\n",
        "| Operation      | Average-case time complexity | Worst-case time complexity |\n",
        "| ----------- | ----------- |---------|\n",
        "| Insert/Update      | **O(1)**    | **O(n)**|\n",
        "| Find   | **O(1)**    | **O(n)**|\n",
        "| Delete   | **O(1)**    | **O(n)**|\n",
        "| List   | **O(n)**    | **O(n)**|\n",
        "\n",
        "\n",
        "Here are some questions to ponder upon?\n",
        "\n",
        "- What is average case complexity? How does it differ from worst-case complexity?\n",
        "- Do you see why insert/find/update have average-case complexity of O(1) and worst-case complexity of O(n) ?\n",
        "- How is the complexity of hash tables different from binary search trees?\n",
        "- When should you prefer using hash table over binary trees or vice versa?\n",
        "\n",
        "Discuss your answers on the forum: https://jovian.ai/forum/c/data-structures-and-algorithms-in-python/assignment-2/88"
      ],
      "id": "constitutional-screen"
    }
  ]
}