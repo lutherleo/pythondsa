{
  "nbformat": 4,
  "nbformat_minor": 5,
  "metadata": {
    "kernelspec": {
      "display_name": "Python 3",
      "language": "python",
      "name": "python3"
    },
    "language_info": {
      "codemirror_mode": {
        "name": "ipython",
        "version": 3
      },
      "file_extension": ".py",
      "mimetype": "text/x-python",
      "name": "python",
      "nbconvert_exporter": "python",
      "pygments_lexer": "ipython3",
      "version": "3.6.12"
    },
    "colab": {
      "name": "python-binary-search-assignment.ipynb",
      "provenance": [],
      "collapsed_sections": [
        "pregnant-steal",
        "honey-cosmetic",
        "naughty-spotlight",
        "intermediate-mailman"
      ],
      "include_colab_link": true
    }
  },
  "cells": [
    {
      "cell_type": "markdown",
      "metadata": {
        "id": "view-in-github",
        "colab_type": "text"
      },
      "source": [
        "<a href=\"https://colab.research.google.com/github/lutherleo/pythondsa/blob/main/python_binary_search_proj.ipynb\" target=\"_parent\"><img src=\"https://colab.research.google.com/assets/colab-badge.svg\" alt=\"Open In Colab\"/></a>"
      ]
    },
    {
      "cell_type": "code",
      "metadata": {
        "colab": {
          "base_uri": "https://localhost:8080/"
        },
        "id": "danish-final",
        "outputId": "fce7f747-b389-4767-9ef5-6125456a450e"
      },
      "source": [
        "# Jovian Commit Essentials\n",
        "# Please retain and execute this cell without modifying the contents for `jovian.commit` to work\n",
        "!pip install jovian --upgrade -q\n",
        "import jovian\n",
        "jovian.set_project('python-binary-search-assignment')\n",
        "jovian.set_colab_id('1f9CsXS2U5wWc1e3jvsXfUhlE0BfwkpLj')"
      ],
      "id": "danish-final",
      "execution_count": null,
      "outputs": [
        {
          "output_type": "stream",
          "text": [
            "\u001b[?25l\r\u001b[K     |████▉                           | 10kB 14.7MB/s eta 0:00:01\r\u001b[K     |█████████▊                      | 20kB 17.8MB/s eta 0:00:01\r\u001b[K     |██████████████▌                 | 30kB 6.7MB/s eta 0:00:01\r\u001b[K     |███████████████████▍            | 40kB 5.7MB/s eta 0:00:01\r\u001b[K     |████████████████████████▏       | 51kB 4.4MB/s eta 0:00:01\r\u001b[K     |█████████████████████████████   | 61kB 5.0MB/s eta 0:00:01\r\u001b[K     |████████████████████████████████| 71kB 3.0MB/s \n",
            "\u001b[?25h  Building wheel for uuid (setup.py) ... \u001b[?25l\u001b[?25hdone\n"
          ],
          "name": "stdout"
        }
      ]
    },
    {
      "cell_type": "markdown",
      "metadata": {
        "id": "requested-power"
      },
      "source": [
        "# Assignment 1 - Binary Search Practice\n",
        "\n",
        "_This assignment is a part of the course [\"Data Structures and Algorithms in Python\"](https://jovian.ai/learn/data-structures-and-algorithms-in-python)._\n",
        "\n",
        "In this assignment, you'll get to practice some of the concepts and skills covered in the following notebooks:\n",
        "\n",
        "1. [Binary Search and Complexity Analysis](https://jovian.ai/aakashns/python-binary-search)\n",
        "3. [Solving Programming Problems Systematically](https://jovian.ai/aakashns/python-problem-solving-template)\n",
        "\n",
        "As you go through this notebook, you will find a **???** in certain places. To complete this assignment, you must replace all the **???** with appropriate values, expressions or statements to ensure that the notebook runs properly end-to-end. \n",
        "\n",
        "Some things to keep in mind:\n",
        "\n",
        "* Make sure to run all the code cells, otherwise you may get errors like `NameError` for undefined variables.\n",
        "* Do not change variable names, delete cells or disturb other existing code. It may cause problems during evaluation.\n",
        "* In some cases, you may need to add some code cells or new statements before or after the line of code containing the **???**. \n",
        "* Since you'll be using a temporary online service for code execution, save your work by running `jovian.commit` at regular intervals.\n",
        "* Questions marked **(Optional)** will not be considered for evaluation, and can be skipped. They are for your learning.\n",
        "\n",
        "You can make submissions on this page: https://jovian.ai/learn/data-structures-and-algorithms-in-python/assignment/assignment-1-binary-search-practice\n",
        "\n",
        "\n",
        "If you are stuck, you can ask for help on the community forum: https://jovian.ai/forum/c/data-structures-and-algorithms-in-python/assignment-1/87 . You can get help with errors or ask for hints, but **please don't ask for OR share the full working answer code** on the forum.\n",
        "\n"
      ],
      "id": "requested-power"
    },
    {
      "cell_type": "markdown",
      "metadata": {
        "id": "incident-screw"
      },
      "source": [
        "## How to run the code and save your work\n",
        "\n",
        "The recommended way to run this notebook is to click the \"Run\" button at the top of this page, and select \"Run on Binder\". This will run the notebook on [mybinder.org](https://mybinder.org), a free online service for running Jupyter notebooks. \n",
        "\n",
        "This tutorial is an executable [Jupyter notebook](https://jupyter.org). You can _run_ this tutorial and experiment with the code examples in a couple of ways: *using free online resources* (recommended) or *on your computer*.\n",
        "\n",
        "#### Option 1: Running using free online resources (1-click, recommended)\n",
        "\n",
        "The easiest way to start executing the code is to click the **Run** button at the top of this page and select **Run on Binder**. You can also select \"Run on Colab\" or \"Run on Kaggle\", but you'll need to create an account on [Google Colab](https://colab.research.google.com) or [Kaggle](https://kaggle.com) to use these platforms.\n",
        "\n",
        "\n",
        "#### Option 2: Running on your computer locally\n",
        "\n",
        "To run the code on your computer locally, you'll need to set up [Python](https://www.python.org), download the notebook and install the required libraries. We recommend using the [Conda](https://docs.conda.io/projects/conda/en/latest/user-guide/install/) distribution of Python. Click the **Run** button at the top of this page, select the **Run Locally** option, and follow the instructions.\n",
        "\n",
        "#### Saving your work\n",
        "\n",
        "Before staring the assignment, let's save a snapshot of the assignment to your [Jovian](https://jovian.ai) profile, so that you can access it later, and continue your work."
      ],
      "id": "incident-screw"
    },
    {
      "cell_type": "code",
      "metadata": {
        "id": "together-original"
      },
      "source": [
        "!pip install jovian --upgrade --quiet"
      ],
      "id": "together-original",
      "execution_count": null,
      "outputs": []
    },
    {
      "cell_type": "code",
      "metadata": {
        "id": "painful-receptor"
      },
      "source": [
        "import jovian"
      ],
      "id": "painful-receptor",
      "execution_count": null,
      "outputs": []
    },
    {
      "cell_type": "code",
      "metadata": {
        "id": "confirmed-stephen"
      },
      "source": [
        "project='python-binary-search-assignment'"
      ],
      "id": "confirmed-stephen",
      "execution_count": null,
      "outputs": []
    },
    {
      "cell_type": "code",
      "metadata": {
        "colab": {
          "base_uri": "https://localhost:8080/",
          "height": 120
        },
        "id": "magnetic-economy",
        "outputId": "45a89341-4461-4fa3-d7f6-7537874882d3"
      },
      "source": [
        "jovian.commit(project=project, privacy='secret', environment=None)"
      ],
      "id": "magnetic-economy",
      "execution_count": null,
      "outputs": [
        {
          "output_type": "stream",
          "text": [
            "[jovian] Detected Colab notebook...\u001b[0m\n",
            "[jovian] Please enter your API key ( from https://jovian.ai/ ):\u001b[0m\n",
            "API KEY: ··········\n",
            "[jovian] Uploading colab notebook to Jovian...\u001b[0m\n",
            "[jovian] Committed successfully! https://jovian.ai/lutherleo/python-binary-search-assignment\u001b[0m\n"
          ],
          "name": "stdout"
        },
        {
          "output_type": "execute_result",
          "data": {
            "application/vnd.google.colaboratory.intrinsic+json": {
              "type": "string"
            },
            "text/plain": [
              "'https://jovian.ai/lutherleo/python-binary-search-assignment'"
            ]
          },
          "metadata": {
            "tags": []
          },
          "execution_count": 5
        }
      ]
    },
    {
      "cell_type": "markdown",
      "metadata": {
        "id": "administrative-marketing"
      },
      "source": [
        "You'll be asked to provide an API Key, to securely upload the notebook to your Jovian.ml account. You can get the API key from your Jovian profile page after logging in / signing up. See the docs for details: https://jovian.ai/docs/user-guide/upload.html . \n",
        "\n",
        "The privacy of your assignment notebook is set to \"Secret\", so that you can the evaluators can access it, but it will not shown on your public profile to other users. To continue working on a saved assignment, just run the saved notebook again."
      ],
      "id": "administrative-marketing"
    },
    {
      "cell_type": "markdown",
      "metadata": {
        "id": "conservative-worcester"
      },
      "source": [
        "## Problem - Rotated Lists\n",
        "\n",
        "We'll solve the following problem step-by-step:\n",
        "\n",
        "> You are given list of numbers, obtained by rotating a sorted list an unknown number of times. Write a function to determine the minimum number of times the original sorted list was rotated to obtain the given list. Your function should have the worst-case complexity of `O(log N)`, where N is the length of the list. You can assume that all the numbers in the list are unique.\n",
        ">\n",
        "> Example: The list `[5, 6, 9, 0, 2, 3, 4]` was obtained by rotating the sorted list `[0, 2, 3, 4, 5, 6, 9]` 3 times.\n",
        ">\n",
        "> We define \"rotating a list\" as removing the last element of the list and adding it before the first element. E.g. rotating the list `[3, 2, 4, 1]` produces `[1, 3, 2, 4]`. \n",
        ">\n",
        ">\"Sorted list\" refers to a list where the elements are arranged in the increasing order  e.g. `[1, 3, 5, 7]`.\n",
        ">"
      ],
      "id": "conservative-worcester"
    },
    {
      "cell_type": "markdown",
      "metadata": {
        "id": "popular-junction"
      },
      "source": [
        "## The Method\n",
        "\n",
        "Here's the systematic strategy we'll apply for solving problems:\n",
        "\n",
        "1. State the problem clearly. Identify the input & output formats.\n",
        "2. Come up with some example inputs & outputs. Try to cover all edge cases.\n",
        "3. Come up with a correct solution for the problem. State it in plain English.\n",
        "4. Implement the solution and test it using example inputs. Fix bugs, if any.\n",
        "5. Analyze the algorithm's complexity and identify inefficiencies, if any.\n",
        "6. Apply the right technique to overcome the inefficiency. Repeat steps 3 to 6.\n",
        "\n",
        "This approach is explained in detail in [Lesson 1](https://jovian.ai/learn/data-structures-and-algorithms-in-python/lesson/lesson-1-binary-search-linked-lists-and-complexity) of the course. Let's apply this approach step-by-step."
      ],
      "id": "popular-junction"
    },
    {
      "cell_type": "markdown",
      "metadata": {
        "id": "rotary-champion"
      },
      "source": [
        "## Solution\n",
        "\n",
        "\n",
        "### 1. State the problem clearly. Identify the input & output formats.\n",
        "\n",
        "While this problem is stated clearly enough, it's always useful to try and express in your own words, in a way that makes it most clear for you. It's perfectly OK if your description overlaps with the original problem statement to a large extent.\n",
        "\n",
        "<br/>\n",
        "\n",
        "_**Q: Express the problem in your own words below (to edit this cell, double click on it).**_\n",
        "\n",
        "**Problem**\n",
        "\n",
        "> The list rotates counterclockwise by putting its last number to the front and shifting the rest bby 1.\n",
        "\n",
        "<br/>\n",
        "\n",
        "_**Q: The function you write will take one input called `nums`. What does it represent? Give an example.**_\n",
        "\n",
        "**Input**\n",
        "\n",
        "1. `nums`: is the set of rotated lists who's no. of rotations we need to find out. example [ 12 , 2, 3, 4]\n",
        "\n",
        "<br/>\n",
        "\n",
        "_**Q: The function you write will return a single output called `rotations`. What does it represent? Give an example.**_\n",
        "\n",
        "**Output**\n",
        "\n",
        "3. `rotations`: it is the no of rotations the ordered list has gone through. For example in the above  list [12, 2, 3, 4] it is 1.\n",
        "\n",
        "<br/>\n",
        "\n",
        "Based on the above, we can now create a signature of our function:"
      ],
      "id": "rotary-champion"
    },
    {
      "cell_type": "code",
      "metadata": {
        "id": "adult-boring"
      },
      "source": [
        "def count_rotations(nums):\n",
        "    pass"
      ],
      "id": "adult-boring",
      "execution_count": null,
      "outputs": []
    },
    {
      "cell_type": "markdown",
      "metadata": {
        "id": "logical-change"
      },
      "source": [
        "After each, step remember to save your notebook"
      ],
      "id": "logical-change"
    },
    {
      "cell_type": "code",
      "metadata": {
        "colab": {
          "base_uri": "https://localhost:8080/",
          "height": 103
        },
        "id": "alone-status",
        "outputId": "66209497-f681-4959-bf93-c1f2f1845ac2"
      },
      "source": [
        "jovian.commit(project=project)"
      ],
      "id": "alone-status",
      "execution_count": null,
      "outputs": [
        {
          "output_type": "stream",
          "text": [
            "[jovian] Detected Colab notebook...\u001b[0m\n",
            "[jovian] Uploading colab notebook to Jovian...\u001b[0m\n",
            "[jovian] Capturing environment..\u001b[0m\n",
            "[jovian] Committed successfully! https://jovian.ai/lutherleo/python-binary-search-assignment\u001b[0m\n"
          ],
          "name": "stdout"
        },
        {
          "output_type": "execute_result",
          "data": {
            "application/vnd.google.colaboratory.intrinsic+json": {
              "type": "string"
            },
            "text/plain": [
              "'https://jovian.ai/lutherleo/python-binary-search-assignment'"
            ]
          },
          "metadata": {
            "tags": []
          },
          "execution_count": 7
        }
      ]
    },
    {
      "cell_type": "markdown",
      "metadata": {
        "id": "stuck-application"
      },
      "source": [
        "### 2. Come up with some example inputs & outputs. Try to cover all edge cases.\n",
        "\n",
        "Our function should be able to handle any set of valid inputs we pass into it. Here's a list of some possible variations we might encounter:\n",
        "\n",
        "1. A list of size 10 rotated 3 times.\n",
        "2. A list of size 8 rotated 5 times.\n",
        "3. A list that wasn't rotated at all.\n",
        "4. A list that was rotated just once. \n",
        "5. A list that was rotated `n-1` times, where `n` is the size of the list.\n",
        "6. A list that was rotated `n` times (do you get back the original list here?)\n",
        "7. An empty list.\n",
        "8. A list containing just one element.\n",
        "9. (can you think of any more?)\n",
        "\n",
        "We'll express our test cases as dictionaries, to test them easily. Each dictionary will contain 2 keys: `input` (a dictionary itself containing one key for each argument to the function and `output` (the expected result from the function). Here's an example."
      ],
      "id": "stuck-application"
    },
    {
      "cell_type": "code",
      "metadata": {
        "id": "incoming-assumption"
      },
      "source": [
        "test = {\n",
        "    'input': {\n",
        "        'nums': [19, 25, 29, 3, 5, 6, 7, 9, 11, 14]\n",
        "    },\n",
        "    'output': 3\n",
        "}"
      ],
      "id": "incoming-assumption",
      "execution_count": null,
      "outputs": []
    },
    {
      "cell_type": "markdown",
      "metadata": {
        "id": "nervous-austin"
      },
      "source": [
        "We can test the function by passing the input to it directly or by using the `evaluate_test_case` function from `jovian`."
      ],
      "id": "nervous-austin"
    },
    {
      "cell_type": "code",
      "metadata": {
        "colab": {
          "base_uri": "https://localhost:8080/"
        },
        "id": "moral-glenn",
        "outputId": "995730b5-08cc-4e5c-ee10-50e76861473a"
      },
      "source": [
        "nums0 = test['input']['nums']\n",
        "output0 = test['input']['nums']\n",
        "result0 = count_rotations(nums0)\n",
        "\n",
        "result0, result0 == output0"
      ],
      "id": "moral-glenn",
      "execution_count": null,
      "outputs": [
        {
          "output_type": "execute_result",
          "data": {
            "text/plain": [
              "(None, False)"
            ]
          },
          "metadata": {
            "tags": []
          },
          "execution_count": 9
        }
      ]
    },
    {
      "cell_type": "code",
      "metadata": {
        "id": "official-theology"
      },
      "source": [
        "from jovian.pythondsa import evaluate_test_case"
      ],
      "id": "official-theology",
      "execution_count": null,
      "outputs": []
    },
    {
      "cell_type": "code",
      "metadata": {
        "colab": {
          "base_uri": "https://localhost:8080/"
        },
        "id": "charitable-daniel",
        "outputId": "1c055726-e853-48db-fc56-95e4b5238285"
      },
      "source": [
        "evaluate_test_case(count_rotations, test)"
      ],
      "id": "charitable-daniel",
      "execution_count": null,
      "outputs": [
        {
          "output_type": "stream",
          "text": [
            "\n",
            "Input:\n",
            "{'nums': [19, 25, 29, 3, 5, 6, 7, 9, 11, 14]}\n",
            "\n",
            "Expected Output:\n",
            "3\n",
            "\n",
            "\n",
            "Actual Output:\n",
            "None\n",
            "\n",
            "Execution Time:\n",
            "0.003 ms\n",
            "\n",
            "Test Result:\n",
            "\u001b[91mFAILED\u001b[0m\n",
            "\n"
          ],
          "name": "stdout"
        },
        {
          "output_type": "execute_result",
          "data": {
            "text/plain": [
              "(None, False, 0.003)"
            ]
          },
          "metadata": {
            "tags": []
          },
          "execution_count": 11
        }
      ]
    },
    {
      "cell_type": "markdown",
      "metadata": {
        "id": "saved-carnival"
      },
      "source": [
        "Let's create one test case for each of the scenarios listed above. We'll store our test cases in an array called `tests`."
      ],
      "id": "saved-carnival"
    },
    {
      "cell_type": "code",
      "metadata": {
        "id": "dried-galaxy"
      },
      "source": [
        "tests = []"
      ],
      "id": "dried-galaxy",
      "execution_count": null,
      "outputs": []
    },
    {
      "cell_type": "code",
      "metadata": {
        "id": "identified-journal"
      },
      "source": [
        "tests.append(test)"
      ],
      "id": "identified-journal",
      "execution_count": null,
      "outputs": []
    },
    {
      "cell_type": "markdown",
      "metadata": {
        "id": "neither-stability"
      },
      "source": [
        "_**Q: Create proper test cases for each of the scenarios listed above.**_"
      ],
      "id": "neither-stability"
    },
    {
      "cell_type": "code",
      "metadata": {
        "id": "capital-milwaukee"
      },
      "source": [
        "# A list of size 8 rotated 5 times.\n",
        "tests.append({\n",
        "    'input': {\n",
        "        'nums': [12, 13, 14, 15, 16, 1, 2, 3, 4]\n",
        "    },\n",
        "    'output': 5\n",
        "})"
      ],
      "id": "capital-milwaukee",
      "execution_count": null,
      "outputs": []
    },
    {
      "cell_type": "code",
      "metadata": {
        "id": "simple-variable"
      },
      "source": [
        "# A list that wasn't rotated at all.\n",
        "tests.append({\n",
        "    'input': {\n",
        "        'nums': [1,2,3,4,5,6,7,8]\n",
        "    },\n",
        "    'output': 0\n",
        "})"
      ],
      "id": "simple-variable",
      "execution_count": null,
      "outputs": []
    },
    {
      "cell_type": "markdown",
      "metadata": {
        "id": "bright-accessory"
      },
      "source": [
        "A list that was rotated just once.\n",
        "A list that was rotated n-1 times, where n is the size of the list.\n",
        "A list that was rotated n times (do you get back the original list here?)\n",
        "An empty list.\n",
        "A list containing just one element."
      ],
      "id": "bright-accessory"
    },
    {
      "cell_type": "code",
      "metadata": {
        "id": "pursuant-facility"
      },
      "source": [
        "# A list that was rotated just once.\n",
        "tests.append({\n",
        "    'input': {\n",
        "        'nums': [12, 1, 2, 3, 4, 5, 6, 7]\n",
        "    },\n",
        "    'output': 1\n",
        "})"
      ],
      "id": "pursuant-facility",
      "execution_count": null,
      "outputs": []
    },
    {
      "cell_type": "code",
      "metadata": {
        "id": "boring-minimum"
      },
      "source": [
        "# A list that was rotated n-1 times, where n is the size of the list.\n",
        "tests.append({\n",
        "    'input': {\n",
        "        'nums': [2, 3, 4, 5, 6, 7, 8, 1]\n",
        "    },\n",
        "    'output': 7\n",
        "})"
      ],
      "id": "boring-minimum",
      "execution_count": null,
      "outputs": []
    },
    {
      "cell_type": "code",
      "metadata": {
        "id": "tamil-iceland"
      },
      "source": [
        "# A list that was rotated n times, where n is the size of the list\n",
        "tests.append({\n",
        "    'input': {\n",
        "        'nums': [1,2,3,4,5,6]\n",
        "    },\n",
        "    'output': 0\n",
        "})"
      ],
      "id": "tamil-iceland",
      "execution_count": null,
      "outputs": []
    },
    {
      "cell_type": "markdown",
      "metadata": {
        "id": "sweet-ideal"
      },
      "source": [
        "**HINT**: Read the question carefully to determine the correct output for the above test case."
      ],
      "id": "sweet-ideal"
    },
    {
      "cell_type": "code",
      "metadata": {
        "id": "shared-cream"
      },
      "source": [
        "# An empty list.\n",
        "tests.append({\n",
        "    'input': {\n",
        "        'nums': []\n",
        "    },\n",
        "    'output': 0\n",
        "})"
      ],
      "id": "shared-cream",
      "execution_count": null,
      "outputs": []
    },
    {
      "cell_type": "code",
      "metadata": {
        "id": "advanced-career"
      },
      "source": [
        "# A list containing just one element.\n",
        "tests.append({\n",
        "    'input': {\n",
        "        'nums': [1]\n",
        "    },\n",
        "    'output': 0\n",
        "})"
      ],
      "id": "advanced-career",
      "execution_count": null,
      "outputs": []
    },
    {
      "cell_type": "markdown",
      "metadata": {
        "id": "three-factory"
      },
      "source": [
        "_**Q (Optional): Include any further test cases below, for other interesting scenarios you can think of.**_"
      ],
      "id": "three-factory"
    },
    {
      "cell_type": "code",
      "metadata": {
        "id": "infrared-worship"
      },
      "source": [
        ""
      ],
      "id": "infrared-worship",
      "execution_count": null,
      "outputs": []
    },
    {
      "cell_type": "code",
      "metadata": {
        "id": "stable-strategy"
      },
      "source": [
        ""
      ],
      "id": "stable-strategy",
      "execution_count": null,
      "outputs": []
    },
    {
      "cell_type": "markdown",
      "metadata": {
        "id": "arabic-davis"
      },
      "source": [
        "Evaluate your function against all the test cases together using the `evaluate_test_cases` (plural) function from `jovian`."
      ],
      "id": "arabic-davis"
    },
    {
      "cell_type": "code",
      "metadata": {
        "id": "sophisticated-michael"
      },
      "source": [
        "from jovian.pythondsa import evaluate_test_cases"
      ],
      "id": "sophisticated-michael",
      "execution_count": null,
      "outputs": []
    },
    {
      "cell_type": "code",
      "metadata": {
        "colab": {
          "base_uri": "https://localhost:8080/"
        },
        "id": "major-height",
        "outputId": "ae049fa7-fd51-4394-f712-8ad9c3247b61"
      },
      "source": [
        "evaluate_test_cases(count_rotations, tests)"
      ],
      "id": "major-height",
      "execution_count": null,
      "outputs": [
        {
          "output_type": "stream",
          "text": [
            "\n",
            "\u001b[1mTEST CASE #0\u001b[0m\n",
            "\n",
            "Input:\n",
            "{'nums': [19, 25, 29, 3, 5, 6, 7, 9, 11, 14]}\n",
            "\n",
            "Expected Output:\n",
            "3\n",
            "\n",
            "\n",
            "Actual Output:\n",
            "None\n",
            "\n",
            "Execution Time:\n",
            "0.004 ms\n",
            "\n",
            "Test Result:\n",
            "\u001b[91mFAILED\u001b[0m\n",
            "\n",
            "\n",
            "\u001b[1mTEST CASE #1\u001b[0m\n",
            "\n",
            "Input:\n",
            "{'nums': [12, 13, 14, 15, 16, 1, 2, 3, 4]}\n",
            "\n",
            "Expected Output:\n",
            "5\n",
            "\n",
            "\n",
            "Actual Output:\n",
            "None\n",
            "\n",
            "Execution Time:\n",
            "0.002 ms\n",
            "\n",
            "Test Result:\n",
            "\u001b[91mFAILED\u001b[0m\n",
            "\n",
            "\n",
            "\u001b[1mTEST CASE #2\u001b[0m\n",
            "\n",
            "Input:\n",
            "{'nums': [1, 2, 3, 4, 5, 6, 7, 8]}\n",
            "\n",
            "Expected Output:\n",
            "0\n",
            "\n",
            "\n",
            "Actual Output:\n",
            "None\n",
            "\n",
            "Execution Time:\n",
            "0.002 ms\n",
            "\n",
            "Test Result:\n",
            "\u001b[91mFAILED\u001b[0m\n",
            "\n",
            "\n",
            "\u001b[1mTEST CASE #3\u001b[0m\n",
            "\n",
            "Input:\n",
            "{'nums': [12, 1, 2, 3, 4, 5, 6, 7]}\n",
            "\n",
            "Expected Output:\n",
            "1\n",
            "\n",
            "\n",
            "Actual Output:\n",
            "None\n",
            "\n",
            "Execution Time:\n",
            "0.002 ms\n",
            "\n",
            "Test Result:\n",
            "\u001b[91mFAILED\u001b[0m\n",
            "\n",
            "\n",
            "\u001b[1mTEST CASE #4\u001b[0m\n",
            "\n",
            "Input:\n",
            "{'nums': [1, 2, 3, 4, 5, 6]}\n",
            "\n",
            "Expected Output:\n",
            "6\n",
            "\n",
            "\n",
            "Actual Output:\n",
            "None\n",
            "\n",
            "Execution Time:\n",
            "0.002 ms\n",
            "\n",
            "Test Result:\n",
            "\u001b[91mFAILED\u001b[0m\n",
            "\n",
            "\n",
            "\u001b[1mTEST CASE #5\u001b[0m\n",
            "\n",
            "Input:\n",
            "{'nums': [2, 3, 4, 5, 6, 7, 8, 1]}\n",
            "\n",
            "Expected Output:\n",
            "7\n",
            "\n",
            "\n",
            "Actual Output:\n",
            "None\n",
            "\n",
            "Execution Time:\n",
            "0.003 ms\n",
            "\n",
            "Test Result:\n",
            "\u001b[91mFAILED\u001b[0m\n",
            "\n",
            "\n",
            "\u001b[1mTEST CASE #6\u001b[0m\n",
            "\n",
            "Input:\n",
            "{'nums': []}\n",
            "\n",
            "Expected Output:\n",
            "0\n",
            "\n",
            "\n",
            "Actual Output:\n",
            "None\n",
            "\n",
            "Execution Time:\n",
            "0.002 ms\n",
            "\n",
            "Test Result:\n",
            "\u001b[91mFAILED\u001b[0m\n",
            "\n",
            "\n",
            "\u001b[1mTEST CASE #7\u001b[0m\n",
            "\n",
            "Input:\n",
            "{'nums': [1]}\n",
            "\n",
            "Expected Output:\n",
            "0\n",
            "\n",
            "\n",
            "Actual Output:\n",
            "None\n",
            "\n",
            "Execution Time:\n",
            "0.002 ms\n",
            "\n",
            "Test Result:\n",
            "\u001b[91mFAILED\u001b[0m\n",
            "\n",
            "\n",
            "\u001b[1mSUMMARY\u001b[0m\n",
            "\n",
            "TOTAL: 8, \u001b[92mPASSED\u001b[0m: 0, \u001b[91mFAILED\u001b[0m: 8\n"
          ],
          "name": "stdout"
        },
        {
          "output_type": "execute_result",
          "data": {
            "text/plain": [
              "[(None, False, 0.004),\n",
              " (None, False, 0.002),\n",
              " (None, False, 0.002),\n",
              " (None, False, 0.002),\n",
              " (None, False, 0.002),\n",
              " (None, False, 0.003),\n",
              " (None, False, 0.002),\n",
              " (None, False, 0.002)]"
            ]
          },
          "metadata": {
            "tags": []
          },
          "execution_count": 22
        }
      ]
    },
    {
      "cell_type": "markdown",
      "metadata": {
        "id": "former-letters"
      },
      "source": [
        "Verify that all the test cases were evaluated. We expect them all to fail, since we haven't implemented the function yet.\n",
        "\n",
        "Let's save our work before continuing."
      ],
      "id": "former-letters"
    },
    {
      "cell_type": "code",
      "metadata": {
        "colab": {
          "base_uri": "https://localhost:8080/",
          "height": 103
        },
        "id": "characteristic-termination",
        "outputId": "358b7a15-b40c-429f-c7c7-f51303b507cc"
      },
      "source": [
        "jovian.commit(project=project)"
      ],
      "id": "characteristic-termination",
      "execution_count": null,
      "outputs": [
        {
          "output_type": "stream",
          "text": [
            "[jovian] Detected Colab notebook...\u001b[0m\n",
            "[jovian] Uploading colab notebook to Jovian...\u001b[0m\n",
            "[jovian] Capturing environment..\u001b[0m\n",
            "[jovian] Committed successfully! https://jovian.ai/lutherleo/python-binary-search-assignment\u001b[0m\n"
          ],
          "name": "stdout"
        },
        {
          "output_type": "execute_result",
          "data": {
            "application/vnd.google.colaboratory.intrinsic+json": {
              "type": "string"
            },
            "text/plain": [
              "'https://jovian.ai/lutherleo/python-binary-search-assignment'"
            ]
          },
          "metadata": {
            "tags": []
          },
          "execution_count": 23
        }
      ]
    },
    {
      "cell_type": "markdown",
      "metadata": {
        "id": "falling-calgary"
      },
      "source": [
        "### 3. Come up with a correct solution for the problem. State it in plain English.\n",
        "\n",
        "Our first goal should always be to come up with a _correct_ solution to the problem, which may not necessarily be the most _efficient_ solution. Try to think of a solution before you read further. \n",
        "\n",
        "Coming up with the correct solution is quite easy, and it's based on this insight: If a list of sorted numbers is rotated `k` times, then the smallest number in the list ends up at position `k` (counting from 0). Further, it is the only number in the list which is smaller than the number before it. Thus, we simply need to **check for each number in the list whether it is smaller than the number that comes before it** (if there is a number before it). Then, our answer i.e. the number of rotations is simply the position of this number is . If we cannot find such a number, then the list wasn't rotated at all.\n",
        "\n",
        "Example: In the list `[19, 25, 29, 3, 5, 6, 7, 9, 11, 14]`, the number `3` is the only number smaller than its predecessor. It occurs at the position `4` (counting from `0`), hence the array was rotated `4` times.\n",
        "\n",
        "\n",
        "We can use the *linear search* algorithm as a first attempt to solve this problem i.e. we can perform the check for every position one by one. But first, try describing the above solution in your own words, that make it clear to you.\n",
        "\n",
        "_**Q (Optional): Describe the linear search solution explained above problem in your own words.**_\n",
        "\n",
        "1. **???**\n",
        "2. **???**\n",
        "3. **???**\n",
        "4. **???**\n",
        "\n",
        "(add more steps if required)\n",
        "\n",
        "\n",
        "Let's save and upload our work before continuing."
      ],
      "id": "falling-calgary"
    },
    {
      "cell_type": "code",
      "metadata": {
        "id": "seasonal-intro"
      },
      "source": [
        "import jovian"
      ],
      "id": "seasonal-intro",
      "execution_count": null,
      "outputs": []
    },
    {
      "cell_type": "code",
      "metadata": {
        "id": "divided-convertible"
      },
      "source": [
        "jovian.commit(project=project)"
      ],
      "id": "divided-convertible",
      "execution_count": null,
      "outputs": []
    },
    {
      "cell_type": "markdown",
      "metadata": {
        "id": "future-narrative"
      },
      "source": [
        "###  4. Implement the solution and test it using example inputs. Fix bugs, if any.\n",
        "\n",
        "_**Q: Implement the solution described in step 3.**_"
      ],
      "id": "future-narrative"
    },
    {
      "cell_type": "code",
      "metadata": {
        "id": "oriental-founder"
      },
      "source": [
        "def count_rotations_linear(nums):\n",
        "    position = 1                # What is the intial value of position?\n",
        "    \n",
        "    while position < len(nums) :                     # When should the loop be terminated?\n",
        "        \n",
        "        # Success criteria: check whether the number at the current position is smaller than the one before it\n",
        "        if position> 0 and nums[position] < nums[position - 1]:   # How to perform the check?\n",
        "            return position\n",
        "        \n",
        "        # Move to the next position\n",
        "        else:\n",
        "          position += 1\n",
        "    \n",
        "    return 0                    # What if none of the positions passed the check               "
      ],
      "id": "oriental-founder",
      "execution_count": null,
      "outputs": []
    },
    {
      "cell_type": "markdown",
      "metadata": {
        "id": "exempt-analysis"
      },
      "source": [
        "Let's test out the function with the first test case."
      ],
      "id": "exempt-analysis"
    },
    {
      "cell_type": "code",
      "metadata": {
        "colab": {
          "base_uri": "https://localhost:8080/"
        },
        "id": "acceptable-airline",
        "outputId": "fe2a3b78-b43e-4450-e528-1b0950eeaec0"
      },
      "source": [
        "linear_search_result = evaluate_test_case(count_rotations_linear, test)"
      ],
      "id": "acceptable-airline",
      "execution_count": null,
      "outputs": [
        {
          "output_type": "stream",
          "text": [
            "\n",
            "Input:\n",
            "{'nums': [19, 25, 29, 3, 5, 6, 7, 9, 11, 14]}\n",
            "\n",
            "Expected Output:\n",
            "3\n",
            "\n",
            "\n",
            "Actual Output:\n",
            "3\n",
            "\n",
            "Execution Time:\n",
            "0.005 ms\n",
            "\n",
            "Test Result:\n",
            "\u001b[92mPASSED\u001b[0m\n",
            "\n"
          ],
          "name": "stdout"
        }
      ]
    },
    {
      "cell_type": "markdown",
      "metadata": {
        "id": "organized-portfolio"
      },
      "source": [
        "Make sure your function passes the test. Fix bugs, if any. \n",
        "\n",
        "Let's test it out with all the test cases."
      ],
      "id": "organized-portfolio"
    },
    {
      "cell_type": "code",
      "metadata": {
        "colab": {
          "base_uri": "https://localhost:8080/"
        },
        "id": "cooperative-third",
        "outputId": "1e6cb173-198f-41b4-d70f-61134f659397"
      },
      "source": [
        "linear_search_results = evaluate_test_cases(count_rotations_linear, tests)"
      ],
      "id": "cooperative-third",
      "execution_count": null,
      "outputs": [
        {
          "output_type": "stream",
          "text": [
            "\n",
            "\u001b[1mTEST CASE #0\u001b[0m\n",
            "\n",
            "Input:\n",
            "{'nums': [19, 25, 29, 3, 5, 6, 7, 9, 11, 14]}\n",
            "\n",
            "Expected Output:\n",
            "3\n",
            "\n",
            "\n",
            "Actual Output:\n",
            "3\n",
            "\n",
            "Execution Time:\n",
            "0.005 ms\n",
            "\n",
            "Test Result:\n",
            "\u001b[92mPASSED\u001b[0m\n",
            "\n",
            "\n",
            "\u001b[1mTEST CASE #1\u001b[0m\n",
            "\n",
            "Input:\n",
            "{'nums': [12, 13, 14, 15, 16, 1, 2, 3, 4]}\n",
            "\n",
            "Expected Output:\n",
            "5\n",
            "\n",
            "\n",
            "Actual Output:\n",
            "5\n",
            "\n",
            "Execution Time:\n",
            "0.006 ms\n",
            "\n",
            "Test Result:\n",
            "\u001b[92mPASSED\u001b[0m\n",
            "\n",
            "\n",
            "\u001b[1mTEST CASE #2\u001b[0m\n",
            "\n",
            "Input:\n",
            "{'nums': [1, 2, 3, 4, 5, 6, 7, 8]}\n",
            "\n",
            "Expected Output:\n",
            "0\n",
            "\n",
            "\n",
            "Actual Output:\n",
            "0\n",
            "\n",
            "Execution Time:\n",
            "0.005 ms\n",
            "\n",
            "Test Result:\n",
            "\u001b[92mPASSED\u001b[0m\n",
            "\n",
            "\n",
            "\u001b[1mTEST CASE #3\u001b[0m\n",
            "\n",
            "Input:\n",
            "{'nums': [12, 1, 2, 3, 4, 5, 6, 7]}\n",
            "\n",
            "Expected Output:\n",
            "1\n",
            "\n",
            "\n",
            "Actual Output:\n",
            "1\n",
            "\n",
            "Execution Time:\n",
            "0.003 ms\n",
            "\n",
            "Test Result:\n",
            "\u001b[92mPASSED\u001b[0m\n",
            "\n",
            "\n",
            "\u001b[1mTEST CASE #4\u001b[0m\n",
            "\n",
            "Input:\n",
            "{'nums': [2, 3, 4, 5, 6, 7, 8, 1]}\n",
            "\n",
            "Expected Output:\n",
            "7\n",
            "\n",
            "\n",
            "Actual Output:\n",
            "7\n",
            "\n",
            "Execution Time:\n",
            "0.004 ms\n",
            "\n",
            "Test Result:\n",
            "\u001b[92mPASSED\u001b[0m\n",
            "\n",
            "\n",
            "\u001b[1mTEST CASE #5\u001b[0m\n",
            "\n",
            "Input:\n",
            "{'nums': [1, 2, 3, 4, 5, 6]}\n",
            "\n",
            "Expected Output:\n",
            "0\n",
            "\n",
            "\n",
            "Actual Output:\n",
            "0\n",
            "\n",
            "Execution Time:\n",
            "0.004 ms\n",
            "\n",
            "Test Result:\n",
            "\u001b[92mPASSED\u001b[0m\n",
            "\n",
            "\n",
            "\u001b[1mTEST CASE #6\u001b[0m\n",
            "\n",
            "Input:\n",
            "{'nums': []}\n",
            "\n",
            "Expected Output:\n",
            "0\n",
            "\n",
            "\n",
            "Actual Output:\n",
            "0\n",
            "\n",
            "Execution Time:\n",
            "0.002 ms\n",
            "\n",
            "Test Result:\n",
            "\u001b[92mPASSED\u001b[0m\n",
            "\n",
            "\n",
            "\u001b[1mTEST CASE #7\u001b[0m\n",
            "\n",
            "Input:\n",
            "{'nums': [1]}\n",
            "\n",
            "Expected Output:\n",
            "0\n",
            "\n",
            "\n",
            "Actual Output:\n",
            "0\n",
            "\n",
            "Execution Time:\n",
            "0.002 ms\n",
            "\n",
            "Test Result:\n",
            "\u001b[92mPASSED\u001b[0m\n",
            "\n",
            "\n",
            "\u001b[1mSUMMARY\u001b[0m\n",
            "\n",
            "TOTAL: 8, \u001b[92mPASSED\u001b[0m: 8, \u001b[91mFAILED\u001b[0m: 0\n"
          ],
          "name": "stdout"
        }
      ]
    },
    {
      "cell_type": "markdown",
      "metadata": {
        "id": "statistical-lending"
      },
      "source": [
        "Once again, make sure all the tests pass. Fix errors and bugs, if any.\n",
        "\n",
        "**NOTE**: During evaluation, your submission will be tested against a much larger set of test cases (not listed here). Make sure to test your solution thoroughly.\n",
        "\n",
        "If you are stuck, you can ask for help on the community forum: https://jovian.ai/forum/c/data-structures-and-algorithms-in-python/assignment-1/87 . You can get help with errors or ask for hints, but **please don't ask for OR share the full working answer code** on the forum."
      ],
      "id": "statistical-lending"
    },
    {
      "cell_type": "markdown",
      "metadata": {
        "id": "economic-spray"
      },
      "source": [
        "### 5. Analyze the algorithm's complexity and identify inefficiencies, if any.\n",
        "\n",
        "Count the maximum number of iterations it may take for the algorithm to return the result.\n",
        "\n",
        "_**Q: What is the worst-case complexity (running time) of the algorithm expressed in the Big O Notation? Assume that the size of the list is `N` (uppercase).**_\n"
      ],
      "id": "economic-spray"
    },
    {
      "cell_type": "code",
      "metadata": {
        "id": "attended-indonesia"
      },
      "source": [
        "linear_search_complexity = \"N\""
      ],
      "id": "attended-indonesia",
      "execution_count": null,
      "outputs": []
    },
    {
      "cell_type": "markdown",
      "metadata": {
        "id": "pregnant-steal"
      },
      "source": [
        "### 6. Apply the right technique to overcome the inefficiency. Repeat steps 3 to 6.\n",
        "\n",
        "As you might have guessed, we can apply _Binary Search_ to solve this problem. The key question we need to answer in binary search is: Given the middle element, how to decide if it is the answer (smallest number), or whether the answer lies to the left or right of it. \n",
        "\n",
        "If the middle element is smaller than its predecessor, then it is the answer. However, if it isn't, this check is not sufficient to determine whether the answer lies to the left or the right of it. Consider the following examples.\n",
        "\n",
        "`[7, 8, 1, 3, 4, 5, 6]` (answer lies to the left of the middle element)\n",
        "\n",
        "`[1, 2, 3, 4, 5, -1, 0]` (answer lies to the right of the middle element)\n",
        "\n",
        "Here's a check that will help us determine if the answer lies to the left or the right: _If the middle element of the list is smaller than the last element of the range, then the answer lies to the right of it. Otherwise, the answer lies to the left._\n",
        "\n",
        "Do you see why this strategy works?\n"
      ],
      "id": "pregnant-steal"
    },
    {
      "cell_type": "markdown",
      "metadata": {
        "id": "static-finder"
      },
      "source": [
        "### 7. Come up with a correct solution for the problem. State it in plain English.\n",
        "\n",
        "Before we implement the solution, it's useful to describe it in a way that makes most sense to you. In a coding interview, you will almost certainly be asked to describe your approach before you start writing code.\n",
        "\n",
        "_**Q (Optional): Describe the binary search solution explained above problem in your own words.**_\n",
        "\n",
        "1. **???**\n",
        "2. **???**\n",
        "3. **???**\n",
        "4. **???**\n",
        "\n",
        "(add more steps if required)\n",
        "\n",
        "Let's save and upload our work before continuing."
      ],
      "id": "static-finder"
    },
    {
      "cell_type": "code",
      "metadata": {
        "colab": {
          "base_uri": "https://localhost:8080/",
          "height": 103
        },
        "id": "chronic-notebook",
        "outputId": "2386ac22-19d4-495a-d961-157b8d2c290c"
      },
      "source": [
        "jovian.commit(project=project)"
      ],
      "id": "chronic-notebook",
      "execution_count": null,
      "outputs": [
        {
          "output_type": "stream",
          "text": [
            "[jovian] Detected Colab notebook...\u001b[0m\n",
            "[jovian] Uploading colab notebook to Jovian...\u001b[0m\n",
            "[jovian] Capturing environment..\u001b[0m\n",
            "[jovian] Committed successfully! https://jovian.ai/lutherleo/python-binary-search-assignment\u001b[0m\n"
          ],
          "name": "stdout"
        },
        {
          "output_type": "execute_result",
          "data": {
            "application/vnd.google.colaboratory.intrinsic+json": {
              "type": "string"
            },
            "text/plain": [
              "'https://jovian.ai/lutherleo/python-binary-search-assignment'"
            ]
          },
          "metadata": {
            "tags": []
          },
          "execution_count": 67
        }
      ]
    },
    {
      "cell_type": "markdown",
      "metadata": {
        "id": "recorded-directive"
      },
      "source": [
        "### 8. Implement the solution and test it using example inputs. Fix bugs, if any.\n",
        "\n",
        "*__Q: Implement the binary search solution described in step 7.__*\n",
        "\n",
        "If you are stuck, you can ask for help on the community forum: https://jovian.ai/forum/c/data-structures-and-algorithms-in-python/assignment-1/87 . You can get help with errors or ask for hints, but **please don't ask for OR share the full working answer code** on the forum."
      ],
      "id": "recorded-directive"
    },
    {
      "cell_type": "code",
      "metadata": {
        "id": "complete-thing"
      },
      "source": [
        "def count_rotations_binary(nums):\n",
        "    lo = 0\n",
        "    hi = len(nums) - 1\n",
        "    \n",
        "    while lo <= hi:\n",
        "        mid = (lo + hi)//2\n",
        "        mid_number = nums[mid]\n",
        "        \n",
        "        # Uncomment the next line for logging the values and fixing errors.\n",
        "        print(\"lo:\", lo, \", hi:\", hi, \", mid:\", mid, \", mid_number:\", mid_number)\n",
        "        \n",
        "        if mid >= lo and nums[mid] <= nums[mid - 1]:\n",
        "            # The middle position is the answer\n",
        "            return mid\n",
        "        \n",
        "        elif mid_number <= nums[hi] :\n",
        "            # Answer lies in the left half\n",
        "            hi = mid - 1  \n",
        "        \n",
        "        else:\n",
        "            # Answer lies in the right half\n",
        "            lo = mid + 1\n",
        "    \n",
        "    return 0"
      ],
      "id": "complete-thing",
      "execution_count": 108,
      "outputs": []
    },
    {
      "cell_type": "markdown",
      "metadata": {
        "id": "parliamentary-element"
      },
      "source": [
        "Let's test out the function with the first test case."
      ],
      "id": "parliamentary-element"
    },
    {
      "cell_type": "code",
      "metadata": {
        "id": "assigned-worth",
        "colab": {
          "base_uri": "https://localhost:8080/"
        },
        "outputId": "a2bd331f-8fc5-436d-e5cf-78ea2ada5ff1"
      },
      "source": [
        "binary_search_result = evaluate_test_case(count_rotations_binary, test)"
      ],
      "id": "assigned-worth",
      "execution_count": 109,
      "outputs": [
        {
          "output_type": "stream",
          "text": [
            "\n",
            "Input:\n",
            "{'nums': [19, 25, 29, 3, 5, 6, 7, 9, 11, 14]}\n",
            "\n",
            "Expected Output:\n",
            "3\n",
            "\n",
            "lo: 0 , hi: 9 , mid: 4 , mid_number: 5\n",
            "lo: 0 , hi: 3 , mid: 1 , mid_number: 25\n",
            "lo: 2 , hi: 3 , mid: 2 , mid_number: 29\n",
            "lo: 3 , hi: 3 , mid: 3 , mid_number: 3\n",
            "\n",
            "Actual Output:\n",
            "3\n",
            "\n",
            "Execution Time:\n",
            "4.853 ms\n",
            "\n",
            "Test Result:\n",
            "\u001b[92mPASSED\u001b[0m\n",
            "\n"
          ],
          "name": "stdout"
        }
      ]
    },
    {
      "cell_type": "markdown",
      "metadata": {
        "id": "noted-planning"
      },
      "source": [
        "Make sure your function passes the test. Fix bugs, if any.\n",
        "\n",
        "Let's test it out with all the test cases."
      ],
      "id": "noted-planning"
    },
    {
      "cell_type": "code",
      "metadata": {
        "id": "operational-symposium",
        "colab": {
          "base_uri": "https://localhost:8080/"
        },
        "outputId": "c2a9bb44-3246-41e8-9508-bf974d24a38e"
      },
      "source": [
        "binary_search_results = evaluate_test_cases(count_rotations_binary, tests)"
      ],
      "id": "operational-symposium",
      "execution_count": 110,
      "outputs": [
        {
          "output_type": "stream",
          "text": [
            "\n",
            "\u001b[1mTEST CASE #0\u001b[0m\n",
            "lo: 0 , hi: 9 , mid: 4 , mid_number: 5\n",
            "lo: 0 , hi: 3 , mid: 1 , mid_number: 25\n",
            "lo: 2 , hi: 3 , mid: 2 , mid_number: 29\n",
            "lo: 3 , hi: 3 , mid: 3 , mid_number: 3\n",
            "\n",
            "Input:\n",
            "{'nums': [19, 25, 29, 3, 5, 6, 7, 9, 11, 14]}\n",
            "\n",
            "Expected Output:\n",
            "3\n",
            "\n",
            "\n",
            "Actual Output:\n",
            "3\n",
            "\n",
            "Execution Time:\n",
            "1.019 ms\n",
            "\n",
            "Test Result:\n",
            "\u001b[92mPASSED\u001b[0m\n",
            "\n",
            "\n",
            "\u001b[1mTEST CASE #1\u001b[0m\n",
            "lo: 0 , hi: 8 , mid: 4 , mid_number: 16\n",
            "lo: 5 , hi: 8 , mid: 6 , mid_number: 2\n",
            "lo: 5 , hi: 5 , mid: 5 , mid_number: 1\n",
            "\n",
            "Input:\n",
            "{'nums': [12, 13, 14, 15, 16, 1, 2, 3, 4]}\n",
            "\n",
            "Expected Output:\n",
            "5\n",
            "\n",
            "\n",
            "Actual Output:\n",
            "5\n",
            "\n",
            "Execution Time:\n",
            "0.527 ms\n",
            "\n",
            "Test Result:\n",
            "\u001b[92mPASSED\u001b[0m\n",
            "\n",
            "\n",
            "\u001b[1mTEST CASE #2\u001b[0m\n",
            "lo: 0 , hi: 7 , mid: 3 , mid_number: 4\n",
            "lo: 0 , hi: 2 , mid: 1 , mid_number: 2\n",
            "lo: 0 , hi: 0 , mid: 0 , mid_number: 1\n",
            "\n",
            "Input:\n",
            "{'nums': [1, 2, 3, 4, 5, 6, 7, 8]}\n",
            "\n",
            "Expected Output:\n",
            "0\n",
            "\n",
            "\n",
            "Actual Output:\n",
            "0\n",
            "\n",
            "Execution Time:\n",
            "2.78 ms\n",
            "\n",
            "Test Result:\n",
            "\u001b[92mPASSED\u001b[0m\n",
            "\n",
            "\n",
            "\u001b[1mTEST CASE #3\u001b[0m\n",
            "lo: 0 , hi: 7 , mid: 3 , mid_number: 3\n",
            "lo: 0 , hi: 2 , mid: 1 , mid_number: 1\n",
            "\n",
            "Input:\n",
            "{'nums': [12, 1, 2, 3, 4, 5, 6, 7]}\n",
            "\n",
            "Expected Output:\n",
            "1\n",
            "\n",
            "\n",
            "Actual Output:\n",
            "1\n",
            "\n",
            "Execution Time:\n",
            "0.809 ms\n",
            "\n",
            "Test Result:\n",
            "\u001b[92mPASSED\u001b[0m\n",
            "\n",
            "\n",
            "\u001b[1mTEST CASE #4\u001b[0m\n",
            "lo: 0 , hi: 7 , mid: 3 , mid_number: 5\n",
            "lo: 4 , hi: 7 , mid: 5 , mid_number: 7\n",
            "lo: 6 , hi: 7 , mid: 6 , mid_number: 8\n",
            "lo: 7 , hi: 7 , mid: 7 , mid_number: 1\n",
            "\n",
            "Input:\n",
            "{'nums': [2, 3, 4, 5, 6, 7, 8, 1]}\n",
            "\n",
            "Expected Output:\n",
            "7\n",
            "\n",
            "\n",
            "Actual Output:\n",
            "7\n",
            "\n",
            "Execution Time:\n",
            "2.1 ms\n",
            "\n",
            "Test Result:\n",
            "\u001b[92mPASSED\u001b[0m\n",
            "\n",
            "\n",
            "\u001b[1mTEST CASE #5\u001b[0m\n",
            "lo: 0 , hi: 5 , mid: 2 , mid_number: 3\n",
            "lo: 0 , hi: 1 , mid: 0 , mid_number: 1\n",
            "\n",
            "Input:\n",
            "{'nums': [1, 2, 3, 4, 5, 6]}\n",
            "\n",
            "Expected Output:\n",
            "0\n",
            "\n",
            "\n",
            "Actual Output:\n",
            "0\n",
            "\n",
            "Execution Time:\n",
            "0.214 ms\n",
            "\n",
            "Test Result:\n",
            "\u001b[92mPASSED\u001b[0m\n",
            "\n",
            "\n",
            "\u001b[1mTEST CASE #6\u001b[0m\n",
            "\n",
            "Input:\n",
            "{'nums': []}\n",
            "\n",
            "Expected Output:\n",
            "0\n",
            "\n",
            "\n",
            "Actual Output:\n",
            "0\n",
            "\n",
            "Execution Time:\n",
            "0.002 ms\n",
            "\n",
            "Test Result:\n",
            "\u001b[92mPASSED\u001b[0m\n",
            "\n",
            "\n",
            "\u001b[1mTEST CASE #7\u001b[0m\n",
            "lo: 0 , hi: 0 , mid: 0 , mid_number: 1\n",
            "\n",
            "Input:\n",
            "{'nums': [1]}\n",
            "\n",
            "Expected Output:\n",
            "0\n",
            "\n",
            "\n",
            "Actual Output:\n",
            "0\n",
            "\n",
            "Execution Time:\n",
            "0.102 ms\n",
            "\n",
            "Test Result:\n",
            "\u001b[92mPASSED\u001b[0m\n",
            "\n",
            "\n",
            "\u001b[1mSUMMARY\u001b[0m\n",
            "\n",
            "TOTAL: 8, \u001b[92mPASSED\u001b[0m: 8, \u001b[91mFAILED\u001b[0m: 0\n"
          ],
          "name": "stdout"
        }
      ]
    },
    {
      "cell_type": "markdown",
      "metadata": {
        "id": "normal-gregory"
      },
      "source": [
        "Once again, make sure all the tests pass. Fix errors and bugs, if any.\n",
        "\n",
        "**NOTE**: During evaluation, your submission will be tested against a much larger set of test cases (not listed here). Make sure to test your solution thoroughly.\n",
        "\n",
        "If you are stuck, you can ask for help on the community forum: https://jovian.ai/forum/c/data-structures-and-algorithms-in-python/assignment-1/87 . You can get help with errors or ask for hints, but **please don't ask for OR share the full working answer code** on the forum.\n",
        "\n",
        "Let's save our work before continuing."
      ],
      "id": "normal-gregory"
    },
    {
      "cell_type": "code",
      "metadata": {
        "id": "amateur-stomach",
        "colab": {
          "base_uri": "https://localhost:8080/",
          "height": 103
        },
        "outputId": "42657cda-b63c-4430-82a4-f3d52ed83276"
      },
      "source": [
        "jovian.commit(project=project)"
      ],
      "id": "amateur-stomach",
      "execution_count": 111,
      "outputs": [
        {
          "output_type": "stream",
          "text": [
            "[jovian] Detected Colab notebook...\u001b[0m\n",
            "[jovian] Uploading colab notebook to Jovian...\u001b[0m\n",
            "[jovian] Capturing environment..\u001b[0m\n",
            "[jovian] Committed successfully! https://jovian.ai/lutherleo/python-binary-search-assignment\u001b[0m\n"
          ],
          "name": "stdout"
        },
        {
          "output_type": "execute_result",
          "data": {
            "application/vnd.google.colaboratory.intrinsic+json": {
              "type": "string"
            },
            "text/plain": [
              "'https://jovian.ai/lutherleo/python-binary-search-assignment'"
            ]
          },
          "metadata": {
            "tags": []
          },
          "execution_count": 111
        }
      ]
    },
    {
      "cell_type": "markdown",
      "metadata": {
        "id": "honey-cosmetic"
      },
      "source": [
        "### 9. Analyze the algorithm's complexity and identify inefficiencies, if any.\n",
        "\n",
        "_**Q: What is the worst-case complexity (running time) of the algorithm expressed in the Big O Notation? Assume that the size of the list is `N` (uppercase).**_\n",
        "\n",
        "Hint: Count the maximum number of iterations it may take for the algorithm to return the result."
      ],
      "id": "honey-cosmetic"
    },
    {
      "cell_type": "code",
      "metadata": {
        "id": "negative-metallic"
      },
      "source": [
        "binary_search_complexity = \"logN\""
      ],
      "id": "negative-metallic",
      "execution_count": 112,
      "outputs": []
    },
    {
      "cell_type": "markdown",
      "metadata": {
        "id": "round-lounge"
      },
      "source": [
        "Is binary search the optimal solution to the problem? How can you prove it? Discuss in the forums.\n",
        "\n",
        "Let's save our work before continuing."
      ],
      "id": "round-lounge"
    },
    {
      "cell_type": "code",
      "metadata": {
        "id": "smooth-delicious"
      },
      "source": [
        "import jovian"
      ],
      "id": "smooth-delicious",
      "execution_count": 113,
      "outputs": []
    },
    {
      "cell_type": "code",
      "metadata": {
        "id": "graphic-separation",
        "colab": {
          "base_uri": "https://localhost:8080/",
          "height": 103
        },
        "outputId": "0c72aeab-6122-4825-8947-f2047d79ef53"
      },
      "source": [
        "jovian.commit()"
      ],
      "id": "graphic-separation",
      "execution_count": 114,
      "outputs": [
        {
          "output_type": "stream",
          "text": [
            "[jovian] Detected Colab notebook...\u001b[0m\n",
            "[jovian] Uploading colab notebook to Jovian...\u001b[0m\n",
            "[jovian] Capturing environment..\u001b[0m\n",
            "[jovian] Committed successfully! https://jovian.ai/lutherleo/python-binary-search-assignment\u001b[0m\n"
          ],
          "name": "stdout"
        },
        {
          "output_type": "execute_result",
          "data": {
            "application/vnd.google.colaboratory.intrinsic+json": {
              "type": "string"
            },
            "text/plain": [
              "'https://jovian.ai/lutherleo/python-binary-search-assignment'"
            ]
          },
          "metadata": {
            "tags": []
          },
          "execution_count": 114
        }
      ]
    },
    {
      "cell_type": "markdown",
      "metadata": {
        "id": "nominated-orleans"
      },
      "source": [
        "## Make a Submission\n",
        "\n",
        "To make a submission, visit the [assignment page](https://jovian.ai/learn/data-structures-and-algorithms-in-python/assignment/assignment-1-binary-search-practice) and submit the link to your notebook.\n",
        "\n",
        "You can also make a submission by executing the following statement:"
      ],
      "id": "nominated-orleans"
    },
    {
      "cell_type": "code",
      "metadata": {
        "id": "sticky-motel",
        "colab": {
          "base_uri": "https://localhost:8080/"
        },
        "outputId": "5ccc766b-4aa8-4146-e400-7a2996340390"
      },
      "source": [
        "jovian.submit(assignment=\"pythondsa-assignment1\")"
      ],
      "id": "sticky-motel",
      "execution_count": 115,
      "outputs": [
        {
          "output_type": "stream",
          "text": [
            "[jovian] Detected Colab notebook...\u001b[0m\n",
            "[jovian] Uploading colab notebook to Jovian...\u001b[0m\n",
            "[jovian] Capturing environment..\u001b[0m\n",
            "[jovian] Committed successfully! https://jovian.ai/lutherleo/python-binary-search-assignment\u001b[0m\n",
            "[jovian] Submitting assignment..\u001b[0m\n",
            "[jovian] Verify your submission at https://jovian.ai/learn/data-structures-and-algorithms-in-python/assignment/assignment-1-binary-search-practice\u001b[0m\n"
          ],
          "name": "stdout"
        }
      ]
    },
    {
      "cell_type": "markdown",
      "metadata": {
        "id": "elder-cement"
      },
      "source": [
        "You can view your previous submissions under the \"Submission History\" section of the [assignment page](https://jovian.ai/learn/data-structures-and-algorithms-in-python/assignment/assignment-1-binary-search-practice). Only your last sumission will be considered for evaluation."
      ],
      "id": "elder-cement"
    },
    {
      "cell_type": "markdown",
      "metadata": {
        "id": "civilian-tyler"
      },
      "source": [
        "## Bonus Questions\n",
        "\n",
        "The questions in this section are optional, and will not affect your grade. Discuss the bonus questions here: https://jovian.ai/forum/t/optional-bonus-questions-discussion-assignment-1/15486\n",
        "\n",
        "You can also copy over the bonus questions to a new notebook to share your solution on the forum without sharing your assignment notebook. Duplicate this template: https://jovian.ai/aakashns/python-problem-solving-template\n",
        "\n",
        "\n",
        "### Optional Bonus 1: Using the Generic Binary Search Algorithm\n",
        "\n",
        "The `jovian` library provides a generic implementation of the binary search algorithm."
      ],
      "id": "civilian-tyler"
    },
    {
      "cell_type": "code",
      "metadata": {
        "id": "severe-personal"
      },
      "source": [
        "from jovian.pythondsa import binary_search"
      ],
      "id": "severe-personal",
      "execution_count": 116,
      "outputs": []
    },
    {
      "cell_type": "markdown",
      "metadata": {
        "id": "positive-vessel"
      },
      "source": [
        "You can view it's source code using the `??` command in Jupyter or on [the Github repository](https://github.com/JovianML/jovian-py/blob/master/jovian/pythondsa/__init__.py#L68) for the `jovian` library."
      ],
      "id": "positive-vessel"
    },
    {
      "cell_type": "code",
      "metadata": {
        "id": "protecting-brave"
      },
      "source": [
        "??binary_search"
      ],
      "id": "protecting-brave",
      "execution_count": 118,
      "outputs": []
    },
    {
      "cell_type": "markdown",
      "metadata": {
        "id": "direct-empty"
      },
      "source": [
        "_**Q (Optional): Implement the `count_rotations` function using the generic `binary_search` function.**_\n",
        "\n",
        "Hint: You'll need to define the condition which returns `\"found\"`, `\"left\"` or `\"right\"` by performing the appropriate check on the middle position in the range."
      ],
      "id": "direct-empty"
    },
    {
      "cell_type": "code",
      "metadata": {
        "id": "amino-feedback"
      },
      "source": [
        "def count_rotations_generic(nums):\n",
        "    def condition(mid):\n",
        "      pass\n",
        "      lo = 0\n",
        "      hi = len(nums)\n",
        "      if mid >= lo and nums[mid] <= nums[mid - 1]:   \n",
        "        lol = 'found'\n",
        "      elif nums[mid] <= nums[hi] :\n",
        "        lol = 'left'\n",
        "      else:\n",
        "        lol = 'right'\n",
        "          \n",
        "      return lol\n",
        "        \n",
        "    return binary_search(0, len(nums)-1, condition)"
      ],
      "id": "amino-feedback",
      "execution_count": 133,
      "outputs": []
    },
    {
      "cell_type": "code",
      "metadata": {
        "id": "eastern-raising",
        "colab": {
          "base_uri": "https://localhost:8080/",
          "height": 442
        },
        "outputId": "46463401-d789-4f79-c7fe-010f834dbde0"
      },
      "source": [
        "\r\n",
        "evaluate_test_case(count_rotations_generic, test)"
      ],
      "id": "eastern-raising",
      "execution_count": 134,
      "outputs": [
        {
          "output_type": "stream",
          "text": [
            "\n",
            "Input:\n",
            "{'nums': [19, 25, 29, 3, 5, 6, 7, 9, 11, 14]}\n",
            "\n",
            "Expected Output:\n",
            "3\n",
            "\n"
          ],
          "name": "stdout"
        },
        {
          "output_type": "error",
          "ename": "IndexError",
          "evalue": "ignored",
          "traceback": [
            "\u001b[0;31m---------------------------------------------------------------------------\u001b[0m",
            "\u001b[0;31mIndexError\u001b[0m                                Traceback (most recent call last)",
            "\u001b[0;32m<ipython-input-134-64f462f0e899>\u001b[0m in \u001b[0;36m<module>\u001b[0;34m()\u001b[0m\n\u001b[1;32m      1\u001b[0m \u001b[0;34m\u001b[0m\u001b[0m\n\u001b[0;32m----> 2\u001b[0;31m \u001b[0mevaluate_test_case\u001b[0m\u001b[0;34m(\u001b[0m\u001b[0mcount_rotations_generic\u001b[0m\u001b[0;34m,\u001b[0m \u001b[0mtest\u001b[0m\u001b[0;34m)\u001b[0m\u001b[0;34m\u001b[0m\u001b[0;34m\u001b[0m\u001b[0m\n\u001b[0m",
            "\u001b[0;32m/usr/local/lib/python3.6/dist-packages/jovian/pythondsa/__init__.py\u001b[0m in \u001b[0;36mevaluate_test_case\u001b[0;34m(function, test_case, display)\u001b[0m\n\u001b[1;32m     50\u001b[0m \u001b[0;34m\u001b[0m\u001b[0m\n\u001b[1;32m     51\u001b[0m     \u001b[0mstart\u001b[0m \u001b[0;34m=\u001b[0m \u001b[0mtimer\u001b[0m\u001b[0;34m(\u001b[0m\u001b[0;34m)\u001b[0m\u001b[0;34m\u001b[0m\u001b[0;34m\u001b[0m\u001b[0m\n\u001b[0;32m---> 52\u001b[0;31m     \u001b[0mactual_output\u001b[0m \u001b[0;34m=\u001b[0m \u001b[0mfunction\u001b[0m\u001b[0;34m(\u001b[0m\u001b[0;34m**\u001b[0m\u001b[0minputs\u001b[0m\u001b[0;34m)\u001b[0m\u001b[0;34m\u001b[0m\u001b[0;34m\u001b[0m\u001b[0m\n\u001b[0m\u001b[1;32m     53\u001b[0m     \u001b[0mend\u001b[0m \u001b[0;34m=\u001b[0m \u001b[0mtimer\u001b[0m\u001b[0;34m(\u001b[0m\u001b[0;34m)\u001b[0m\u001b[0;34m\u001b[0m\u001b[0;34m\u001b[0m\u001b[0m\n\u001b[1;32m     54\u001b[0m \u001b[0;34m\u001b[0m\u001b[0m\n",
            "\u001b[0;32m<ipython-input-133-efa8c77cf374>\u001b[0m in \u001b[0;36mcount_rotations_generic\u001b[0;34m(nums)\u001b[0m\n\u001b[1;32m     13\u001b[0m       \u001b[0;32mreturn\u001b[0m \u001b[0mlol\u001b[0m\u001b[0;34m\u001b[0m\u001b[0;34m\u001b[0m\u001b[0m\n\u001b[1;32m     14\u001b[0m \u001b[0;34m\u001b[0m\u001b[0m\n\u001b[0;32m---> 15\u001b[0;31m     \u001b[0;32mreturn\u001b[0m \u001b[0mbinary_search\u001b[0m\u001b[0;34m(\u001b[0m\u001b[0;36m0\u001b[0m\u001b[0;34m,\u001b[0m \u001b[0mlen\u001b[0m\u001b[0;34m(\u001b[0m\u001b[0mnums\u001b[0m\u001b[0;34m)\u001b[0m\u001b[0;34m-\u001b[0m\u001b[0;36m1\u001b[0m\u001b[0;34m,\u001b[0m \u001b[0mcondition\u001b[0m\u001b[0;34m)\u001b[0m\u001b[0;34m\u001b[0m\u001b[0;34m\u001b[0m\u001b[0m\n\u001b[0m",
            "\u001b[0;32m/usr/local/lib/python3.6/dist-packages/jovian/pythondsa/__init__.py\u001b[0m in \u001b[0;36mbinary_search\u001b[0;34m(lo, hi, condition)\u001b[0m\n\u001b[1;32m     88\u001b[0m     \u001b[0;32mwhile\u001b[0m \u001b[0mlo\u001b[0m \u001b[0;34m<=\u001b[0m \u001b[0mhi\u001b[0m\u001b[0;34m:\u001b[0m\u001b[0;34m\u001b[0m\u001b[0;34m\u001b[0m\u001b[0m\n\u001b[1;32m     89\u001b[0m         \u001b[0mmid\u001b[0m \u001b[0;34m=\u001b[0m \u001b[0;34m(\u001b[0m\u001b[0mlo\u001b[0m \u001b[0;34m+\u001b[0m \u001b[0mhi\u001b[0m\u001b[0;34m)\u001b[0m \u001b[0;34m//\u001b[0m \u001b[0;36m2\u001b[0m\u001b[0;34m\u001b[0m\u001b[0;34m\u001b[0m\u001b[0m\n\u001b[0;32m---> 90\u001b[0;31m         \u001b[0mresult\u001b[0m \u001b[0;34m=\u001b[0m \u001b[0mcondition\u001b[0m\u001b[0;34m(\u001b[0m\u001b[0mmid\u001b[0m\u001b[0;34m)\u001b[0m\u001b[0;34m\u001b[0m\u001b[0;34m\u001b[0m\u001b[0m\n\u001b[0m\u001b[1;32m     91\u001b[0m         \u001b[0;32mif\u001b[0m \u001b[0mresult\u001b[0m \u001b[0;34m==\u001b[0m \u001b[0;34m'found'\u001b[0m\u001b[0;34m:\u001b[0m\u001b[0;34m\u001b[0m\u001b[0;34m\u001b[0m\u001b[0m\n\u001b[1;32m     92\u001b[0m             \u001b[0;32mreturn\u001b[0m \u001b[0mmid\u001b[0m\u001b[0;34m\u001b[0m\u001b[0;34m\u001b[0m\u001b[0m\n",
            "\u001b[0;32m<ipython-input-133-efa8c77cf374>\u001b[0m in \u001b[0;36mcondition\u001b[0;34m(mid)\u001b[0m\n\u001b[1;32m      6\u001b[0m       \u001b[0;32mif\u001b[0m \u001b[0mmid\u001b[0m \u001b[0;34m>=\u001b[0m \u001b[0mlo\u001b[0m \u001b[0;32mand\u001b[0m \u001b[0mnums\u001b[0m\u001b[0;34m[\u001b[0m\u001b[0mmid\u001b[0m\u001b[0;34m]\u001b[0m \u001b[0;34m<=\u001b[0m \u001b[0mnums\u001b[0m\u001b[0;34m[\u001b[0m\u001b[0mmid\u001b[0m \u001b[0;34m-\u001b[0m \u001b[0;36m1\u001b[0m\u001b[0;34m]\u001b[0m\u001b[0;34m:\u001b[0m\u001b[0;34m\u001b[0m\u001b[0;34m\u001b[0m\u001b[0m\n\u001b[1;32m      7\u001b[0m         \u001b[0mlol\u001b[0m \u001b[0;34m=\u001b[0m \u001b[0;34m'found'\u001b[0m\u001b[0;34m\u001b[0m\u001b[0;34m\u001b[0m\u001b[0m\n\u001b[0;32m----> 8\u001b[0;31m       \u001b[0;32melif\u001b[0m \u001b[0mnums\u001b[0m\u001b[0;34m[\u001b[0m\u001b[0mmid\u001b[0m\u001b[0;34m]\u001b[0m \u001b[0;34m<=\u001b[0m \u001b[0mnums\u001b[0m\u001b[0;34m[\u001b[0m\u001b[0mhi\u001b[0m\u001b[0;34m]\u001b[0m \u001b[0;34m:\u001b[0m\u001b[0;34m\u001b[0m\u001b[0;34m\u001b[0m\u001b[0m\n\u001b[0m\u001b[1;32m      9\u001b[0m         \u001b[0mlol\u001b[0m \u001b[0;34m=\u001b[0m \u001b[0;34m'left'\u001b[0m\u001b[0;34m\u001b[0m\u001b[0;34m\u001b[0m\u001b[0m\n\u001b[1;32m     10\u001b[0m       \u001b[0;32melse\u001b[0m\u001b[0;34m:\u001b[0m\u001b[0;34m\u001b[0m\u001b[0;34m\u001b[0m\u001b[0m\n",
            "\u001b[0;31mIndexError\u001b[0m: list index out of range"
          ]
        }
      ]
    },
    {
      "cell_type": "code",
      "metadata": {
        "id": "failing-monitoring"
      },
      "source": [
        "evaluate_test_cases(count_rotations_generic, test)"
      ],
      "id": "failing-monitoring",
      "execution_count": null,
      "outputs": []
    },
    {
      "cell_type": "code",
      "metadata": {
        "id": "closed-monday"
      },
      "source": [
        "jovian.commit()"
      ],
      "id": "closed-monday",
      "execution_count": null,
      "outputs": []
    },
    {
      "cell_type": "markdown",
      "metadata": {
        "id": "realistic-assessment"
      },
      "source": [
        "Discuss your solution on the forum: https://jovian.ai/forum/c/data-structures-and-algorithms-in-python/assignment-1/87"
      ],
      "id": "realistic-assessment"
    },
    {
      "cell_type": "markdown",
      "metadata": {
        "id": "naughty-spotlight"
      },
      "source": [
        "### Optional Bonus 2: Handling repeating numbers\n",
        "\n",
        "So far we've assumed that the numbers in the list are unique. What if the numbers can repeat? E.g. `[5, 6, 6, 9, 9, 9, 0, 0, 2, 3, 3, 3, 3, 4, 4]`. Can you modify your solution to handle this special case?\n",
        "\n",
        "\n",
        "_**Q (Optional): Create additional test cases where the list can contain repeating numbers**_"
      ],
      "id": "naughty-spotlight"
    },
    {
      "cell_type": "code",
      "metadata": {
        "id": "designed-stationery"
      },
      "source": [
        "extended_tests = list(tests)"
      ],
      "id": "designed-stationery",
      "execution_count": null,
      "outputs": []
    },
    {
      "cell_type": "code",
      "metadata": {
        "id": "reflected-backup"
      },
      "source": [
        "extended_test.append({\n",
        "    # add your test case here\n",
        "})"
      ],
      "id": "reflected-backup",
      "execution_count": null,
      "outputs": []
    },
    {
      "cell_type": "code",
      "metadata": {
        "id": "rental-specific"
      },
      "source": [
        "extended_test.append({\n",
        "    # add your test case here\n",
        "})"
      ],
      "id": "rental-specific",
      "execution_count": null,
      "outputs": []
    },
    {
      "cell_type": "code",
      "metadata": {
        "id": "social-baker"
      },
      "source": [
        "# add more test cases if required"
      ],
      "id": "social-baker",
      "execution_count": null,
      "outputs": []
    },
    {
      "cell_type": "code",
      "metadata": {
        "id": "finnish-sudan"
      },
      "source": [
        "jovian.commit()"
      ],
      "id": "finnish-sudan",
      "execution_count": null,
      "outputs": []
    },
    {
      "cell_type": "markdown",
      "metadata": {
        "id": "freelance-kinase"
      },
      "source": [
        "_**Q (Optional): Modify your solution (if required) to handle the case where the list can contain repeating numbers.**_"
      ],
      "id": "freelance-kinase"
    },
    {
      "cell_type": "code",
      "metadata": {
        "id": "vocational-revolution"
      },
      "source": [
        "def count_rotations_generic(nums):\n",
        "    pass # replace this with your code"
      ],
      "id": "vocational-revolution",
      "execution_count": null,
      "outputs": []
    },
    {
      "cell_type": "markdown",
      "metadata": {
        "id": "comic-metabolism"
      },
      "source": [
        "Test your function to make sure it works properly."
      ],
      "id": "comic-metabolism"
    },
    {
      "cell_type": "code",
      "metadata": {
        "id": "unlike-offset"
      },
      "source": [
        ""
      ],
      "id": "unlike-offset",
      "execution_count": null,
      "outputs": []
    },
    {
      "cell_type": "code",
      "metadata": {
        "id": "pregnant-roommate"
      },
      "source": [
        ""
      ],
      "id": "pregnant-roommate",
      "execution_count": null,
      "outputs": []
    },
    {
      "cell_type": "markdown",
      "metadata": {
        "id": "center-solid"
      },
      "source": [
        "Discuss your solution on the forum: https://jovian.ai/forum/c/data-structures-and-algorithms-in-python/assignment-1/87"
      ],
      "id": "center-solid"
    },
    {
      "cell_type": "markdown",
      "metadata": {
        "id": "intermediate-mailman"
      },
      "source": [
        "### Optional Bonus 3: Searching in a Rotated List\n",
        "\n",
        "Here's a slightly advanced extension to this problem:\n",
        "\n",
        "> You are given list of numbers, obtained by rotating a sorted list an unknown number of times. You are also given a target number. Write a function to find the position of the target number within the rotated list. You can assume that all the numbers in the list are unique.\n",
        ">\n",
        "> Example: In the rotated sorted list `[5, 6, 9, 0, 2, 3, 4]`, the target number `2` occurs at position `5`."
      ],
      "id": "intermediate-mailman"
    },
    {
      "cell_type": "markdown",
      "metadata": {
        "id": "happy-attack"
      },
      "source": [
        "**Q (Optional): Create some test cases for the above problem.**"
      ],
      "id": "happy-attack"
    },
    {
      "cell_type": "code",
      "metadata": {
        "id": "efficient-coffee"
      },
      "source": [
        "tests2 = []"
      ],
      "id": "efficient-coffee",
      "execution_count": null,
      "outputs": []
    },
    {
      "cell_type": "code",
      "metadata": {
        "id": "wicked-junior"
      },
      "source": [
        "# add test cases here"
      ],
      "id": "wicked-junior",
      "execution_count": null,
      "outputs": []
    },
    {
      "cell_type": "code",
      "metadata": {
        "id": "threaded-piano"
      },
      "source": [
        ""
      ],
      "id": "threaded-piano",
      "execution_count": null,
      "outputs": []
    },
    {
      "cell_type": "markdown",
      "metadata": {
        "id": "still-presentation"
      },
      "source": [
        "**Q (Optional): Implement a solution to the above problem using binary search.**\n",
        "\n",
        "_HINT:_ One way to solve this problem is to identify two sorted subarrays within the given array (using the `count_rotations_binary` function defined above), then perform a binary search on each subarray to determine the position of the target element. Another way is to modify `count_rotations_binary` to solve the problem directly."
      ],
      "id": "still-presentation"
    },
    {
      "cell_type": "code",
      "metadata": {
        "id": "great-peter"
      },
      "source": [
        "def find_element(nums, target):\n",
        "    pass "
      ],
      "id": "great-peter",
      "execution_count": null,
      "outputs": []
    },
    {
      "cell_type": "markdown",
      "metadata": {
        "id": "initial-arthur"
      },
      "source": [
        "Test your solution using the cells below."
      ],
      "id": "initial-arthur"
    },
    {
      "cell_type": "code",
      "metadata": {
        "id": "duplicate-separate"
      },
      "source": [
        ""
      ],
      "id": "duplicate-separate",
      "execution_count": null,
      "outputs": []
    },
    {
      "cell_type": "markdown",
      "metadata": {
        "id": "choice-utilization"
      },
      "source": [
        "You can test your solution to the above problem here: https://leetcode.com/problems/search-in-rotated-sorted-array/\n",
        "\n",
        "Discuss your approach on the forum: https://jovian.ai/forum/c/data-structures-and-algorithms-in-python/assignment-1/87"
      ],
      "id": "choice-utilization"
    },
    {
      "cell_type": "code",
      "metadata": {
        "id": "useful-bhutan"
      },
      "source": [
        "jovian.commit()"
      ],
      "id": "useful-bhutan",
      "execution_count": null,
      "outputs": []
    }
  ]
}